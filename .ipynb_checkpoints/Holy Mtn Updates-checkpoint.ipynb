{
 "cells": [
  {
   "cell_type": "code",
   "execution_count": 1,
   "metadata": {},
   "outputs": [],
   "source": [
    "import json\n",
    "from selenium import webdriver\n",
    "from twilio.rest import Client\n",
    "import time\n",
    "import re\n",
    "import datetime\n",
    "import sys"
   ]
  },
  {
   "cell_type": "code",
   "execution_count": 34,
   "metadata": {},
   "outputs": [],
   "source": [
    "class beer:\n",
    "    def __init__(self, name, url, element_name, remove_names_that_contain, keys):\n",
    "        self.name = name\n",
    "        self.url = url\n",
    "        self.element_name = element_name\n",
    "        self.driver = webdriver.Firefox()\n",
    "        self.__keys = keys\n",
    "        self.text_client = Client(keys[\"twilio account sid\"], keys[\"twilio auth token\"])\n",
    "        \n",
    "        self.driver.get(self.url)\n",
    "        time.sleep(30)\n",
    "        self.full_return = self.driver.find_elements_by_class_name(self.element_name)\n",
    "        self.beers = [x.text for x in self.full_return if not re.findall('|'.join(self.remove_names_that_contain), x)]\n",
    "                        \n",
    "    def __repr__(self):\n",
    "        return self.name\n",
    "    \n",
    "    def refresh(self):\n",
    "        self.driver.refresh()\n",
    "        time.sleep(30)\n",
    "        self.full_return = self.driver.find_elements_by_class_name(self.element_name)\n",
    "        new_beers = [x.text for x in self.full_return if not re.findall('|'.join(self.remove_names_that_contain), x)]\n",
    "        \n",
    "        delta = [beer for beer in new_beers if beer not in self.beers]\n",
    "        self.beers = new_beers\n",
    "        \n",
    "        if(len(delta) > 0):\n",
    "            text_delta(delta)\n",
    "            \n",
    "    def text_delta(self, delta):\n",
    "        cost_to_send_text = 0.0075\n",
    "        if float(client.balance.fetch().balance) < cost_to_send_text:\n",
    "            print('Twilio is out of money!')\n",
    "        else:\n",
    "            client.messages.create(to = to_number, \n",
    "                                   from_ = from_number, \n",
    "                                   body = self.name + ' update! ' + ', '.join(delta))"
   ]
  },
  {
   "cell_type": "code",
   "execution_count": 35,
   "metadata": {},
   "outputs": [
    {
     "ename": "AttributeError",
     "evalue": "'beer' object has no attribute 'remove_names_that_contain'",
     "output_type": "error",
     "traceback": [
      "\u001b[0;31m---------------------------------------------------------------------------\u001b[0m",
      "\u001b[0;31mAttributeError\u001b[0m                            Traceback (most recent call last)",
      "\u001b[0;32m<ipython-input-35-a8efa98b009c>\u001b[0m in \u001b[0;36m<module>\u001b[0;34m\u001b[0m\n\u001b[1;32m      7\u001b[0m                      remove_names_that_contain = ['GUEST CIDER', 'GUEST GINGER BEER', 'T-Shirt', \n\u001b[1;32m      8\u001b[0m                                                   'Cheesemonger', 'Donation'], \n\u001b[0;32m----> 9\u001b[0;31m                      keys = keys)\n\u001b[0m",
      "\u001b[0;32m<ipython-input-34-bf2f6dec36a8>\u001b[0m in \u001b[0;36m__init__\u001b[0;34m(self, name, url, element_name, remove_names_that_contain, keys)\u001b[0m\n\u001b[1;32m     11\u001b[0m         \u001b[0mtime\u001b[0m\u001b[0;34m.\u001b[0m\u001b[0msleep\u001b[0m\u001b[0;34m(\u001b[0m\u001b[0;36m30\u001b[0m\u001b[0;34m)\u001b[0m\u001b[0;34m\u001b[0m\u001b[0;34m\u001b[0m\u001b[0m\n\u001b[1;32m     12\u001b[0m         \u001b[0mself\u001b[0m\u001b[0;34m.\u001b[0m\u001b[0mfull_return\u001b[0m \u001b[0;34m=\u001b[0m \u001b[0mself\u001b[0m\u001b[0;34m.\u001b[0m\u001b[0mdriver\u001b[0m\u001b[0;34m.\u001b[0m\u001b[0mfind_elements_by_class_name\u001b[0m\u001b[0;34m(\u001b[0m\u001b[0mself\u001b[0m\u001b[0;34m.\u001b[0m\u001b[0melement_name\u001b[0m\u001b[0;34m)\u001b[0m\u001b[0;34m\u001b[0m\u001b[0;34m\u001b[0m\u001b[0m\n\u001b[0;32m---> 13\u001b[0;31m         \u001b[0mself\u001b[0m\u001b[0;34m.\u001b[0m\u001b[0mbeers\u001b[0m \u001b[0;34m=\u001b[0m \u001b[0;34m[\u001b[0m\u001b[0mx\u001b[0m\u001b[0;34m.\u001b[0m\u001b[0mtext\u001b[0m \u001b[0;32mfor\u001b[0m \u001b[0mx\u001b[0m \u001b[0;32min\u001b[0m \u001b[0mself\u001b[0m\u001b[0;34m.\u001b[0m\u001b[0mfull_return\u001b[0m \u001b[0;32mnot\u001b[0m \u001b[0;32min\u001b[0m \u001b[0mself\u001b[0m\u001b[0;34m.\u001b[0m\u001b[0mremove_names_that_contain\u001b[0m\u001b[0;34m]\u001b[0m\u001b[0;34m\u001b[0m\u001b[0;34m\u001b[0m\u001b[0m\n\u001b[0m\u001b[1;32m     14\u001b[0m \u001b[0;34m\u001b[0m\u001b[0m\n\u001b[1;32m     15\u001b[0m     \u001b[0;32mdef\u001b[0m \u001b[0m__repr__\u001b[0m\u001b[0;34m(\u001b[0m\u001b[0mself\u001b[0m\u001b[0;34m)\u001b[0m\u001b[0;34m:\u001b[0m\u001b[0;34m\u001b[0m\u001b[0;34m\u001b[0m\u001b[0m\n",
      "\u001b[0;31mAttributeError\u001b[0m: 'beer' object has no attribute 'remove_names_that_contain'"
     ]
    }
   ],
   "source": [
    "with open(\"credentials.json\") as json_data_file: \n",
    "    keys = json.load(json_data_file)\n",
    "    \n",
    "holy_mountian = beer(name = \"Holy Mountain\", \n",
    "                     url = \"https://togo.holymountainbrewing.com\", \n",
    "                     element_name = \"w-product-title\", \n",
    "                     remove_names_that_contain = ['GUEST CIDER', 'GUEST GINGER BEER', 'T-Shirt', \n",
    "                                                  'Cheesemonger', 'Donation'], \n",
    "                     keys = keys)"
   ]
  },
  {
   "cell_type": "code",
   "execution_count": null,
   "metadata": {
    "scrolled": false
   },
   "outputs": [
    {
     "name": "stdout",
     "output_type": "stream",
     "text": [
      "['Visual Field - Mosaic & Comet Pale Ale', 'Festbier', 'The White Lodge - Wit', 'I Voted Today - Double Dry-Hopped American Pale Ale', 'Witchfinder', 'The Goat (2020) - Rustic Brett Saison', 'The Hart (2020)', 'Holy Light Tank', 'COAL Beanie']\n",
      "19/10/2020 14:54:47\n",
      "['Visual Field - Mosaic & Comet Pale Ale', 'Festbier', 'The White Lodge - Wit', 'I Voted Today - Double Dry-Hopped American Pale Ale', 'Witchfinder', 'The Goat (2020) - Rustic Brett Saison', 'The Hart (2020)', 'Holy Light Tank', 'COAL Beanie', 'Flaming Goat Tote']\n",
      "19/10/2020 14:54:47\n",
      "['Flaming Goat Tote']\n"
     ]
    }
   ],
   "source": [
    "### Full dry run\n",
    "with open(\"credentials.json\") as json_data_file: \n",
    "    keys = json.load(json_data_file)\n",
    "\n",
    "def initialize_connection(url : str, fail : bool = False) -> webdriver:\n",
    "    if fail:\n",
    "        driver.quit()\n",
    "        time.sleep(5)\n",
    "        \n",
    "    driver = webdriver.Firefox()\n",
    "    driver.minimize_window()\n",
    "    driver.get(url)\n",
    "    time.sleep(30)\n",
    "    return driver\n",
    "\n",
    "name = \"Holy Mountain\" \n",
    "url = \"https://togo.holymountainbrewing.com/s/order?location=11ea750d9ac8923bbc9f54ab3a70da4d\"\n",
    "element_name = \"w-product-title\"\n",
    "remove_names_that_contain = ['GUEST CIDER', 'GUEST GINGER BEER', 'T-Shirt', 'Logo Pin', 'Postcard', 'Bandana', \n",
    "                             'Cheesemonger', 'Donation', 'Coal Hat', 'OHME', 'T-Shrit', 'Mini Prints', ' Pin',\n",
    "                            ' Glass', 'Sticker Set', 'Koozie', 'Stein Mug', 'Flaming Goat Tote']\n",
    "\n",
    "text_client = Client(keys[\"twilio account sid\"], keys[\"twilio auth token\"])\n",
    "\n",
    "driver = initialize_connection(url)\n",
    "full_return = driver.find_elements_by_class_name(element_name)\n",
    "beers = [x.text for x in full_return if not re.search('|'.join(remove_names_that_contain), x.text, re.IGNORECASE)]\n",
    "print(beers)\n",
    "\n",
    "while True:\n",
    "    time.sleep(60)  # We will change this if multiple breweries are implemented.\n",
    "    try:\n",
    "        driver.refresh()\n",
    "        time.sleep(60)\n",
    "    except:\n",
    "        print('A non WebDriverException event occured: ' + sys.exc_info()[0])\n",
    "        driver = initialize_connection(url, fail = True)\n",
    "    \n",
    "    full_return = driver.find_elements_by_class_name(element_name)\n",
    "    new_beers = [x.text for x in full_return if \n",
    "                 not re.findall('|'.join(remove_names_that_contain), x.text, re.IGNORECASE)]\n",
    "\n",
    "    print(datetime.datetime.now().strftime(\"%d/%m/%Y %H:%M:%S\"))\n",
    "    print(new_beers)\n",
    "\n",
    "    delta = [beer for beer in new_beers if beer not in beers]\n",
    "    \n",
    "    if(len(new_beers) != 0): # Sometimes we get nothing back for whatever reason, this will just bypass the run.\n",
    "        beers = new_beers\n",
    "\n",
    "    if(len(delta) > 0):\n",
    "        print(datetime.datetime.now().strftime(\"%d/%m/%Y %H:%M:%S\"))\n",
    "        print(delta)\n",
    "        cost_to_send_text = 0.0075\n",
    "        if float(text_client.balance.fetch().balance) < cost_to_send_text:\n",
    "            print('Twilio is out of money!')\n",
    "        else:\n",
    "            text_client.messages.create(to = keys['my phone number'], \n",
    "                                   from_ = keys['twilio phone number'], \n",
    "                                   body = name + ' update! ' + ', '.join(delta))"
   ]
  },
  {
   "cell_type": "code",
   "execution_count": null,
   "metadata": {},
   "outputs": [],
   "source": []
  },
  {
   "cell_type": "code",
   "execution_count": 3,
   "metadata": {},
   "outputs": [],
   "source": [
    "sys.exc_info()[0]"
   ]
  },
  {
   "cell_type": "code",
   "execution_count": null,
   "metadata": {},
   "outputs": [],
   "source": []
  }
 ],
 "metadata": {
  "kernelspec": {
   "display_name": "Python 3",
   "language": "python",
   "name": "python3"
  },
  "language_info": {
   "codemirror_mode": {
    "name": "ipython",
    "version": 3
   },
   "file_extension": ".py",
   "mimetype": "text/x-python",
   "name": "python",
   "nbconvert_exporter": "python",
   "pygments_lexer": "ipython3",
   "version": "3.7.4"
  }
 },
 "nbformat": 4,
 "nbformat_minor": 2
}

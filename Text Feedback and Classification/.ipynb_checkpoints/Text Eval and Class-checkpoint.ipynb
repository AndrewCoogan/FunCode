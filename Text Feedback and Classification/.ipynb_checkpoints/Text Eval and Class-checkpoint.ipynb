{
 "cells": [
  {
   "cell_type": "code",
   "execution_count": 37,
   "metadata": {},
   "outputs": [],
   "source": [
    "import pandas as pd\n",
    "import numpy as np\n",
    "from collections import Counter\n",
    "\n",
    "import matplotlib.pyplot as plt\n",
    "import seaborn as sns\n",
    "\n",
    "from tqdm import tqdm\n",
    "import pickle\n",
    "\n",
    "from os.path import exists\n",
    "\n",
    "import spacy"
   ]
  },
  {
   "cell_type": "code",
   "execution_count": 33,
   "metadata": {},
   "outputs": [],
   "source": [
    "train_data_path = '/Users/andrewcoogan/Documents/Not Source Control/Text Feedback and Classification Data/'\n",
    "test_data_path = '/Data/test/'"
   ]
  },
  {
   "cell_type": "code",
   "execution_count": 45,
   "metadata": {},
   "outputs": [],
   "source": [
    "def save_data(obj, name : str):\n",
    "    with open(f'Data/{name}.pkl', 'wb') as fid:\n",
    "        pickle.dump(obj, fid)  \n",
    "\n",
    "def load_data(name : str):\n",
    "    with open(f'Data/{name}.pkl', 'rb') as fid:\n",
    "        model = pickle.load(fid)\n",
    "    return model"
   ]
  },
  {
   "cell_type": "code",
   "execution_count": 15,
   "metadata": {},
   "outputs": [
    {
     "data": {
      "text/plain": [
       "\"I think we should be able to play in a sport if we have a grade C. I think i would be not fear for student that have a good grade like c to play in a sport. If we had a D or an F i would understand that but a C i nothing. Not a lot of kid get A or Bs and if we do. Some of those kids don't like to play a sport they like to do all there homework not that i am saying that a bad C grade people do there homework to. If there is only 1 out of 4 percent of student that get A and B, They all don't like the same sports and some don't like to do sports so it wouldn't be a hole team in that sport. that means you would have to cancel all the sport teams in the school. That why you should let C student play an a sport.\""
      ]
     },
     "execution_count": 15,
     "metadata": {},
     "output_type": "execute_result"
    }
   ],
   "source": [
    "id_to_check = '62C57C524CD2'\n",
    "open(f'{train_data_path}train/{id_to_check}.txt', 'r').read()"
   ]
  },
  {
   "cell_type": "code",
   "execution_count": 16,
   "metadata": {},
   "outputs": [
    {
     "data": {
      "text/html": [
       "<div>\n",
       "<style scoped>\n",
       "    .dataframe tbody tr th:only-of-type {\n",
       "        vertical-align: middle;\n",
       "    }\n",
       "\n",
       "    .dataframe tbody tr th {\n",
       "        vertical-align: top;\n",
       "    }\n",
       "\n",
       "    .dataframe thead th {\n",
       "        text-align: right;\n",
       "    }\n",
       "</style>\n",
       "<table border=\"1\" class=\"dataframe\">\n",
       "  <thead>\n",
       "    <tr style=\"text-align: right;\">\n",
       "      <th></th>\n",
       "      <th>id</th>\n",
       "      <th>discourse_id</th>\n",
       "      <th>discourse_start</th>\n",
       "      <th>discourse_end</th>\n",
       "      <th>discourse_text</th>\n",
       "      <th>discourse_type</th>\n",
       "      <th>discourse_type_num</th>\n",
       "      <th>predictionstring</th>\n",
       "    </tr>\n",
       "  </thead>\n",
       "  <tbody>\n",
       "    <tr>\n",
       "      <td>73038</td>\n",
       "      <td>62C57C524CD2</td>\n",
       "      <td>1.617199e+12</td>\n",
       "      <td>0.0</td>\n",
       "      <td>66.0</td>\n",
       "      <td>I think we should be able to play in a sport i...</td>\n",
       "      <td>Position</td>\n",
       "      <td>Position 1</td>\n",
       "      <td>0 1 2 3 4 5 6 7 8 9 10 11 12 13 14 15 16</td>\n",
       "    </tr>\n",
       "    <tr>\n",
       "      <td>73039</td>\n",
       "      <td>62C57C524CD2</td>\n",
       "      <td>1.617199e+12</td>\n",
       "      <td>67.0</td>\n",
       "      <td>156.0</td>\n",
       "      <td>I think i would be not fear for student that h...</td>\n",
       "      <td>Evidence</td>\n",
       "      <td>Evidence 1</td>\n",
       "      <td>17 18 19 20 21 22 23 24 25 26 27 28 29 30 31 3...</td>\n",
       "    </tr>\n",
       "    <tr>\n",
       "      <td>73040</td>\n",
       "      <td>62C57C524CD2</td>\n",
       "      <td>1.617199e+12</td>\n",
       "      <td>157.0</td>\n",
       "      <td>202.0</td>\n",
       "      <td>If we had a D or an F i would understand that</td>\n",
       "      <td>Counterclaim</td>\n",
       "      <td>Counterclaim 1</td>\n",
       "      <td>38 39 40 41 42 43 44 45 46 47 48 49</td>\n",
       "    </tr>\n",
       "    <tr>\n",
       "      <td>73041</td>\n",
       "      <td>62C57C524CD2</td>\n",
       "      <td>1.617199e+12</td>\n",
       "      <td>203.0</td>\n",
       "      <td>221.0</td>\n",
       "      <td>but a C i nothing.</td>\n",
       "      <td>Rebuttal</td>\n",
       "      <td>Rebuttal 1</td>\n",
       "      <td>50 51 52 53 54</td>\n",
       "    </tr>\n",
       "    <tr>\n",
       "      <td>73042</td>\n",
       "      <td>62C57C524CD2</td>\n",
       "      <td>1.617199e+12</td>\n",
       "      <td>222.0</td>\n",
       "      <td>414.0</td>\n",
       "      <td>Not a lot of kid get A or Bs and if we do. Som...</td>\n",
       "      <td>Evidence</td>\n",
       "      <td>Evidence 2</td>\n",
       "      <td>55 56 57 58 59 60 61 62 63 64 65 66 67 68 69 7...</td>\n",
       "    </tr>\n",
       "    <tr>\n",
       "      <td>73043</td>\n",
       "      <td>62C57C524CD2</td>\n",
       "      <td>1.617199e+12</td>\n",
       "      <td>415.0</td>\n",
       "      <td>593.0</td>\n",
       "      <td>If there is only 1 out of 4 percent of student...</td>\n",
       "      <td>Claim</td>\n",
       "      <td>Claim 1</td>\n",
       "      <td>100 101 102 103 104 105 106 107 108 109 110 11...</td>\n",
       "    </tr>\n",
       "    <tr>\n",
       "      <td>73044</td>\n",
       "      <td>62C57C524CD2</td>\n",
       "      <td>1.617199e+12</td>\n",
       "      <td>594.0</td>\n",
       "      <td>664.0</td>\n",
       "      <td>that means you would have to cancel all the sp...</td>\n",
       "      <td>Evidence</td>\n",
       "      <td>Evidence 3</td>\n",
       "      <td>140 141 142 143 144 145 146 147 148 149 150 15...</td>\n",
       "    </tr>\n",
       "    <tr>\n",
       "      <td>73045</td>\n",
       "      <td>62C57C524CD2</td>\n",
       "      <td>1.617199e+12</td>\n",
       "      <td>665.0</td>\n",
       "      <td>715.0</td>\n",
       "      <td>That why you should let C student play an a sp...</td>\n",
       "      <td>Concluding Statement</td>\n",
       "      <td>Concluding Statement 1</td>\n",
       "      <td>154 155 156 157 158 159 160 161 162 163 164</td>\n",
       "    </tr>\n",
       "  </tbody>\n",
       "</table>\n",
       "</div>"
      ],
      "text/plain": [
       "                 id  discourse_id  discourse_start  discourse_end  \\\n",
       "73038  62C57C524CD2  1.617199e+12              0.0           66.0   \n",
       "73039  62C57C524CD2  1.617199e+12             67.0          156.0   \n",
       "73040  62C57C524CD2  1.617199e+12            157.0          202.0   \n",
       "73041  62C57C524CD2  1.617199e+12            203.0          221.0   \n",
       "73042  62C57C524CD2  1.617199e+12            222.0          414.0   \n",
       "73043  62C57C524CD2  1.617199e+12            415.0          593.0   \n",
       "73044  62C57C524CD2  1.617199e+12            594.0          664.0   \n",
       "73045  62C57C524CD2  1.617199e+12            665.0          715.0   \n",
       "\n",
       "                                          discourse_text  \\\n",
       "73038  I think we should be able to play in a sport i...   \n",
       "73039  I think i would be not fear for student that h...   \n",
       "73040      If we had a D or an F i would understand that   \n",
       "73041                                 but a C i nothing.   \n",
       "73042  Not a lot of kid get A or Bs and if we do. Som...   \n",
       "73043  If there is only 1 out of 4 percent of student...   \n",
       "73044  that means you would have to cancel all the sp...   \n",
       "73045  That why you should let C student play an a sp...   \n",
       "\n",
       "             discourse_type      discourse_type_num  \\\n",
       "73038              Position              Position 1   \n",
       "73039              Evidence              Evidence 1   \n",
       "73040          Counterclaim          Counterclaim 1   \n",
       "73041              Rebuttal              Rebuttal 1   \n",
       "73042              Evidence              Evidence 2   \n",
       "73043                 Claim                 Claim 1   \n",
       "73044              Evidence              Evidence 3   \n",
       "73045  Concluding Statement  Concluding Statement 1   \n",
       "\n",
       "                                        predictionstring  \n",
       "73038           0 1 2 3 4 5 6 7 8 9 10 11 12 13 14 15 16  \n",
       "73039  17 18 19 20 21 22 23 24 25 26 27 28 29 30 31 3...  \n",
       "73040                38 39 40 41 42 43 44 45 46 47 48 49  \n",
       "73041                                     50 51 52 53 54  \n",
       "73042  55 56 57 58 59 60 61 62 63 64 65 66 67 68 69 7...  \n",
       "73043  100 101 102 103 104 105 106 107 108 109 110 11...  \n",
       "73044  140 141 142 143 144 145 146 147 148 149 150 15...  \n",
       "73045        154 155 156 157 158 159 160 161 162 163 164  "
      ]
     },
     "execution_count": 16,
     "metadata": {},
     "output_type": "execute_result"
    }
   ],
   "source": [
    "train = pd.read_csv(train_data_path + 'train.csv')\n",
    "train.loc[train.id == id_to_check]"
   ]
  },
  {
   "cell_type": "code",
   "execution_count": 31,
   "metadata": {},
   "outputs": [
    {
     "data": {
      "text/plain": [
       "(144293, 8)"
      ]
     },
     "execution_count": 31,
     "metadata": {},
     "output_type": "execute_result"
    }
   ],
   "source": [
    "train.shape"
   ]
  },
  {
   "cell_type": "markdown",
   "metadata": {},
   "source": [
    "# EDA with some Spacy"
   ]
  },
  {
   "cell_type": "code",
   "execution_count": 50,
   "metadata": {},
   "outputs": [],
   "source": [
    "def clean_text(text : str) -> str:\n",
    "    # Need to think on this one.\n",
    "    return text"
   ]
  },
  {
   "cell_type": "code",
   "execution_count": 51,
   "metadata": {},
   "outputs": [],
   "source": [
    "nlp = spacy.load('en_core_web_sm')"
   ]
  },
  {
   "cell_type": "code",
   "execution_count": 49,
   "metadata": {},
   "outputs": [
    {
     "data": {
      "text/plain": [
       "{'Evidence': Counter({'DET': 379860,\n",
       "          'ADJ': 242308,\n",
       "          'NOUN': 723042,\n",
       "          'ADP': 364783,\n",
       "          'PROPN': 74715,\n",
       "          'VERB': 582526,\n",
       "          'ADV': 214918,\n",
       "          'SCONJ': 91799,\n",
       "          'PRON': 343522,\n",
       "          'PUNCT': 328053,\n",
       "          'INTJ': 3642,\n",
       "          'CCONJ': 131467,\n",
       "          'PART': 154991,\n",
       "          'AUX': 243085,\n",
       "          'SPACE': 25854,\n",
       "          'NUM': 37970,\n",
       "          'SYM': 1694,\n",
       "          'X': 1008}),\n",
       " 'Rebuttal': Counter({'DET': 13803,\n",
       "          'NOUN': 23286,\n",
       "          'VERB': 19566,\n",
       "          'ADJ': 8675,\n",
       "          'SCONJ': 3702,\n",
       "          'AUX': 9751,\n",
       "          'ADP': 11375,\n",
       "          'PUNCT': 10682,\n",
       "          'PART': 5913,\n",
       "          'PRON': 11738,\n",
       "          'ADV': 8447,\n",
       "          'CCONJ': 5281,\n",
       "          'SPACE': 1147,\n",
       "          'PROPN': 1489,\n",
       "          'SYM': 25,\n",
       "          'X': 15,\n",
       "          'NUM': 726,\n",
       "          'INTJ': 193}),\n",
       " 'Concluding Statement': Counter({'DET': 83909,\n",
       "          'NOUN': 168523,\n",
       "          'ADV': 49750,\n",
       "          'VERB': 139374,\n",
       "          'PRON': 82614,\n",
       "          'ADJ': 63737,\n",
       "          'ADP': 79965,\n",
       "          'PUNCT': 73314,\n",
       "          'AUX': 63659,\n",
       "          'PART': 36659,\n",
       "          'SCONJ': 21132,\n",
       "          'CCONJ': 32733,\n",
       "          'SPACE': 8695,\n",
       "          'NUM': 4136,\n",
       "          'PROPN': 11813,\n",
       "          'SYM': 162,\n",
       "          'INTJ': 1031,\n",
       "          'X': 126}),\n",
       " 'Lead': Counter({'ADJ': 34311,\n",
       "          'NOUN': 106130,\n",
       "          'AUX': 34903,\n",
       "          'ADV': 27330,\n",
       "          'ADP': 52142,\n",
       "          'PRON': 43641,\n",
       "          'PUNCT': 48641,\n",
       "          'SCONJ': 10628,\n",
       "          'NUM': 4311,\n",
       "          'DET': 51054,\n",
       "          'VERB': 76009,\n",
       "          'CCONJ': 16792,\n",
       "          'PART': 18929,\n",
       "          'X': 139,\n",
       "          'PROPN': 12524,\n",
       "          'SYM': 97,\n",
       "          'SPACE': 2735,\n",
       "          'INTJ': 930}),\n",
       " 'Position': Counter({'PRON': 26558,\n",
       "          'AUX': 24171,\n",
       "          'DET': 28528,\n",
       "          'ADV': 12788,\n",
       "          'ADJ': 21892,\n",
       "          'NOUN': 59894,\n",
       "          'VERB': 46789,\n",
       "          'ADP': 26356,\n",
       "          'PUNCT': 19766,\n",
       "          'PART': 12395,\n",
       "          'SCONJ': 8951,\n",
       "          'SPACE': 3421,\n",
       "          'CCONJ': 6919,\n",
       "          'PROPN': 7211,\n",
       "          'X': 25,\n",
       "          'NUM': 1780,\n",
       "          'INTJ': 519,\n",
       "          'SYM': 58}),\n",
       " 'Claim': Counter({'NOUN': 187601,\n",
       "          'AUX': 68149,\n",
       "          'NUM': 5285,\n",
       "          'ADP': 85246,\n",
       "          'DET': 91104,\n",
       "          'ADV': 50415,\n",
       "          'PART': 39487,\n",
       "          'VERB': 144982,\n",
       "          'PUNCT': 63964,\n",
       "          'PRON': 82157,\n",
       "          'SCONJ': 24834,\n",
       "          'ADJ': 67431,\n",
       "          'CCONJ': 25704,\n",
       "          'SPACE': 10027,\n",
       "          'PROPN': 13631,\n",
       "          'X': 188,\n",
       "          'SYM': 257,\n",
       "          'INTJ': 572}),\n",
       " 'Counterclaim': Counter({'ADV': 7456,\n",
       "          'NOUN': 29419,\n",
       "          'AUX': 11862,\n",
       "          'VERB': 22861,\n",
       "          'SCONJ': 5910,\n",
       "          'ADP': 12985,\n",
       "          'ADJ': 10570,\n",
       "          'PART': 5933,\n",
       "          'PUNCT': 10897,\n",
       "          'DET': 15948,\n",
       "          'PRON': 11576,\n",
       "          'CCONJ': 3936,\n",
       "          'SPACE': 975,\n",
       "          'NUM': 772,\n",
       "          'PROPN': 2368,\n",
       "          'INTJ': 364,\n",
       "          'X': 37,\n",
       "          'SYM': 32})}"
      ]
     },
     "execution_count": 49,
     "metadata": {},
     "output_type": "execute_result"
    }
   ],
   "source": [
    "if exists('Data/pos_counter.pkl'):\n",
    "    pos_counter = load_data('pos_counter')\n",
    "else:\n",
    "    discourse_types = list(set(train.discourse_type))\n",
    "    pos_counter = {}\n",
    "\n",
    "    name = 'pos_tagging_counter'\n",
    "\n",
    "    for d_t in discourse_types:\n",
    "        pos_counter[d_t] = Counter()\n",
    "\n",
    "    for _, row in tqdm(train.iterrows(), total=train.shape[0]):\n",
    "        pos_counter[row.discourse_type].update(\n",
    "            [t.pos_ for t in nlp(row.discourse_text)]\n",
    "        )\n",
    "        \n",
    "    save_data(pos_counter, 'pos_counter')\n",
    "    \n",
    "pos_counter"
   ]
  },
  {
   "cell_type": "code",
   "execution_count": 100,
   "metadata": {},
   "outputs": [
    {
     "data": {
      "image/png": "[encoded data removed]",
      "text/plain": [
       "<Figure size 432x288 with 1 Axes>"
      ]
     },
     "metadata": {},
     "output_type": "display_data"
    }
   ],
   "source": [
    "# Most common n, with other\n",
    "def most_common_n(ctr : Counter, n : int = 9):\n",
    "    mc = ctr.most_common()\n",
    "    total = sum(n for _, n in mc)\n",
    "\n",
    "    top_n = mc[:n]\n",
    "    top_n.append(('Other', total - sum(n for _, n in top_n)))\n",
    "    top_n_pct = [(n, round(p / total, 4)) for n, p in top_n]\n",
    "\n",
    "    return top_n_pct\n",
    "\n",
    "tt = most_common_n(pos_counter['Evidence'])\n",
    "colors = sns.color_palette('bright')[0:10]\n",
    "plt.pie([d for _, d in tt], labels = [d for d, _ in tt], colors = colors, autopct='%.0f%%')\n",
    "plt.title('Evidence')\n",
    "plt.show()"
   ]
  },
  {
   "cell_type": "code",
   "execution_count": null,
   "metadata": {},
   "outputs": [],
   "source": [
    "# How are we going to proceed?\n",
    "# Should lemma everything first.\n",
    "# Use spacy and get the parts of speech for each of the discourse_types. See distribution of the data.\n",
    "# Can also use the complexity assesment while I am at it.\n",
    "# For this we can also us a counter, good to show and pactice useage of that."
   ]
  },
  {
   "cell_type": "code",
   "execution_count": null,
   "metadata": {},
   "outputs": [],
   "source": []
  },
  {
   "cell_type": "code",
   "execution_count": 10,
   "metadata": {},
   "outputs": [],
   "source": [
    "tt = nlp('hello how are you Drew')"
   ]
  },
  {
   "cell_type": "code",
   "execution_count": 11,
   "metadata": {},
   "outputs": [
    {
     "data": {
      "text/plain": [
       "['INTJ', 'ADV', 'AUX', 'PRON', 'VERB']"
      ]
     },
     "execution_count": 11,
     "metadata": {},
     "output_type": "execute_result"
    }
   ],
   "source": [
    "[t.pos_ for t in tt]"
   ]
  },
  {
   "cell_type": "code",
   "execution_count": null,
   "metadata": {},
   "outputs": [],
   "source": []
  }
 ],
 "metadata": {
  "kernelspec": {
   "display_name": "Python 3",
   "language": "python",
   "name": "python3"
  },
  "language_info": {
   "codemirror_mode": {
    "name": "ipython",
    "version": 3
   },
   "file_extension": ".py",
   "mimetype": "text/x-python",
   "name": "python",
   "nbconvert_exporter": "python",
   "pygments_lexer": "ipython3",
   "version": "3.7.4"
  }
 },
 "nbformat": 4,
 "nbformat_minor": 2
}

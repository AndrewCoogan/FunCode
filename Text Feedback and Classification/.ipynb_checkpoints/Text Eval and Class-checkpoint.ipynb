{
 "cells": [
  {
   "cell_type": "code",
   "execution_count": 2,
   "metadata": {},
   "outputs": [],
   "source": [
    "import pandas as pd\n",
    "import os"
   ]
  },
  {
   "cell_type": "code",
   "execution_count": 12,
   "metadata": {},
   "outputs": [],
   "source": [
    "train_data_path = '/Users/andrewcoogan/Documents/Not Source Control/Text Feedback and Classification Data/'\n",
    "test_data_path = '/Data/test/'"
   ]
  },
  {
   "cell_type": "code",
   "execution_count": 16,
   "metadata": {},
   "outputs": [
    {
     "data": {
      "text/plain": [
       "\"I think we should be able to play in a sport if we have a grade C. I think i would be not fear for student that have a good grade like c to play in a sport. If we had a D or an F i would understand that but a C i nothing. Not a lot of kid get A or Bs and if we do. Some of those kids don't like to play a sport they like to do all there homework not that i am saying that a bad C grade people do there homework to. If there is only 1 out of 4 percent of student that get A and B, They all don't like the same sports and some don't like to do sports so it wouldn't be a hole team in that sport. that means you would have to cancel all the sport teams in the school. That why you should let C student play an a sport.\""
      ]
     },
     "execution_count": 16,
     "metadata": {},
     "output_type": "execute_result"
    }
   ],
   "source": [
    "id_to_check = '62C57C524CD2'\n",
    "open(f'{train_data_path}train/{id_to_check}.txt', 'r').read()"
   ]
  },
  {
   "cell_type": "code",
   "execution_count": 14,
   "metadata": {},
   "outputs": [],
   "source": [
    "tt = pd.read_csv(train_data_path+'train.csv')"
   ]
  },
  {
   "cell_type": "code",
   "execution_count": 17,
   "metadata": {},
   "outputs": [
    {
     "data": {
      "text/html": [
       "<div>\n",
       "<style scoped>\n",
       "    .dataframe tbody tr th:only-of-type {\n",
       "        vertical-align: middle;\n",
       "    }\n",
       "\n",
       "    .dataframe tbody tr th {\n",
       "        vertical-align: top;\n",
       "    }\n",
       "\n",
       "    .dataframe thead th {\n",
       "        text-align: right;\n",
       "    }\n",
       "</style>\n",
       "<table border=\"1\" class=\"dataframe\">\n",
       "  <thead>\n",
       "    <tr style=\"text-align: right;\">\n",
       "      <th></th>\n",
       "      <th>id</th>\n",
       "      <th>discourse_id</th>\n",
       "      <th>discourse_start</th>\n",
       "      <th>discourse_end</th>\n",
       "      <th>discourse_text</th>\n",
       "      <th>discourse_type</th>\n",
       "      <th>discourse_type_num</th>\n",
       "      <th>predictionstring</th>\n",
       "    </tr>\n",
       "  </thead>\n",
       "  <tbody>\n",
       "    <tr>\n",
       "      <td>73038</td>\n",
       "      <td>62C57C524CD2</td>\n",
       "      <td>1.617199e+12</td>\n",
       "      <td>0.0</td>\n",
       "      <td>66.0</td>\n",
       "      <td>I think we should be able to play in a sport i...</td>\n",
       "      <td>Position</td>\n",
       "      <td>Position 1</td>\n",
       "      <td>0 1 2 3 4 5 6 7 8 9 10 11 12 13 14 15 16</td>\n",
       "    </tr>\n",
       "    <tr>\n",
       "      <td>73039</td>\n",
       "      <td>62C57C524CD2</td>\n",
       "      <td>1.617199e+12</td>\n",
       "      <td>67.0</td>\n",
       "      <td>156.0</td>\n",
       "      <td>I think i would be not fear for student that h...</td>\n",
       "      <td>Evidence</td>\n",
       "      <td>Evidence 1</td>\n",
       "      <td>17 18 19 20 21 22 23 24 25 26 27 28 29 30 31 3...</td>\n",
       "    </tr>\n",
       "    <tr>\n",
       "      <td>73040</td>\n",
       "      <td>62C57C524CD2</td>\n",
       "      <td>1.617199e+12</td>\n",
       "      <td>157.0</td>\n",
       "      <td>202.0</td>\n",
       "      <td>If we had a D or an F i would understand that</td>\n",
       "      <td>Counterclaim</td>\n",
       "      <td>Counterclaim 1</td>\n",
       "      <td>38 39 40 41 42 43 44 45 46 47 48 49</td>\n",
       "    </tr>\n",
       "    <tr>\n",
       "      <td>73041</td>\n",
       "      <td>62C57C524CD2</td>\n",
       "      <td>1.617199e+12</td>\n",
       "      <td>203.0</td>\n",
       "      <td>221.0</td>\n",
       "      <td>but a C i nothing.</td>\n",
       "      <td>Rebuttal</td>\n",
       "      <td>Rebuttal 1</td>\n",
       "      <td>50 51 52 53 54</td>\n",
       "    </tr>\n",
       "    <tr>\n",
       "      <td>73042</td>\n",
       "      <td>62C57C524CD2</td>\n",
       "      <td>1.617199e+12</td>\n",
       "      <td>222.0</td>\n",
       "      <td>414.0</td>\n",
       "      <td>Not a lot of kid get A or Bs and if we do. Som...</td>\n",
       "      <td>Evidence</td>\n",
       "      <td>Evidence 2</td>\n",
       "      <td>55 56 57 58 59 60 61 62 63 64 65 66 67 68 69 7...</td>\n",
       "    </tr>\n",
       "    <tr>\n",
       "      <td>73043</td>\n",
       "      <td>62C57C524CD2</td>\n",
       "      <td>1.617199e+12</td>\n",
       "      <td>415.0</td>\n",
       "      <td>593.0</td>\n",
       "      <td>If there is only 1 out of 4 percent of student...</td>\n",
       "      <td>Claim</td>\n",
       "      <td>Claim 1</td>\n",
       "      <td>100 101 102 103 104 105 106 107 108 109 110 11...</td>\n",
       "    </tr>\n",
       "    <tr>\n",
       "      <td>73044</td>\n",
       "      <td>62C57C524CD2</td>\n",
       "      <td>1.617199e+12</td>\n",
       "      <td>594.0</td>\n",
       "      <td>664.0</td>\n",
       "      <td>that means you would have to cancel all the sp...</td>\n",
       "      <td>Evidence</td>\n",
       "      <td>Evidence 3</td>\n",
       "      <td>140 141 142 143 144 145 146 147 148 149 150 15...</td>\n",
       "    </tr>\n",
       "    <tr>\n",
       "      <td>73045</td>\n",
       "      <td>62C57C524CD2</td>\n",
       "      <td>1.617199e+12</td>\n",
       "      <td>665.0</td>\n",
       "      <td>715.0</td>\n",
       "      <td>That why you should let C student play an a sp...</td>\n",
       "      <td>Concluding Statement</td>\n",
       "      <td>Concluding Statement 1</td>\n",
       "      <td>154 155 156 157 158 159 160 161 162 163 164</td>\n",
       "    </tr>\n",
       "  </tbody>\n",
       "</table>\n",
       "</div>"
      ],
      "text/plain": [
       "                 id  discourse_id  discourse_start  discourse_end  \\\n",
       "73038  62C57C524CD2  1.617199e+12              0.0           66.0   \n",
       "73039  62C57C524CD2  1.617199e+12             67.0          156.0   \n",
       "73040  62C57C524CD2  1.617199e+12            157.0          202.0   \n",
       "73041  62C57C524CD2  1.617199e+12            203.0          221.0   \n",
       "73042  62C57C524CD2  1.617199e+12            222.0          414.0   \n",
       "73043  62C57C524CD2  1.617199e+12            415.0          593.0   \n",
       "73044  62C57C524CD2  1.617199e+12            594.0          664.0   \n",
       "73045  62C57C524CD2  1.617199e+12            665.0          715.0   \n",
       "\n",
       "                                          discourse_text  \\\n",
       "73038  I think we should be able to play in a sport i...   \n",
       "73039  I think i would be not fear for student that h...   \n",
       "73040      If we had a D or an F i would understand that   \n",
       "73041                                 but a C i nothing.   \n",
       "73042  Not a lot of kid get A or Bs and if we do. Som...   \n",
       "73043  If there is only 1 out of 4 percent of student...   \n",
       "73044  that means you would have to cancel all the sp...   \n",
       "73045  That why you should let C student play an a sp...   \n",
       "\n",
       "             discourse_type      discourse_type_num  \\\n",
       "73038              Position              Position 1   \n",
       "73039              Evidence              Evidence 1   \n",
       "73040          Counterclaim          Counterclaim 1   \n",
       "73041              Rebuttal              Rebuttal 1   \n",
       "73042              Evidence              Evidence 2   \n",
       "73043                 Claim                 Claim 1   \n",
       "73044              Evidence              Evidence 3   \n",
       "73045  Concluding Statement  Concluding Statement 1   \n",
       "\n",
       "                                        predictionstring  \n",
       "73038           0 1 2 3 4 5 6 7 8 9 10 11 12 13 14 15 16  \n",
       "73039  17 18 19 20 21 22 23 24 25 26 27 28 29 30 31 3...  \n",
       "73040                38 39 40 41 42 43 44 45 46 47 48 49  \n",
       "73041                                     50 51 52 53 54  \n",
       "73042  55 56 57 58 59 60 61 62 63 64 65 66 67 68 69 7...  \n",
       "73043  100 101 102 103 104 105 106 107 108 109 110 11...  \n",
       "73044  140 141 142 143 144 145 146 147 148 149 150 15...  \n",
       "73045        154 155 156 157 158 159 160 161 162 163 164  "
      ]
     },
     "execution_count": 17,
     "metadata": {},
     "output_type": "execute_result"
    }
   ],
   "source": [
    "tt.loc[tt.id == id_to_check]"
   ]
  },
  {
   "cell_type": "code",
   "execution_count": null,
   "metadata": {},
   "outputs": [],
   "source": [
    "# How are we going to proceed?"
   ]
  }
 ],
 "metadata": {
  "kernelspec": {
   "display_name": "Python 3",
   "language": "python",
   "name": "python3"
  },
  "language_info": {
   "codemirror_mode": {
    "name": "ipython",
    "version": 3
   },
   "file_extension": ".py",
   "mimetype": "text/x-python",
   "name": "python",
   "nbconvert_exporter": "python",
   "pygments_lexer": "ipython3",
   "version": "3.7.4"
  }
 },
 "nbformat": 4,
 "nbformat_minor": 2
}

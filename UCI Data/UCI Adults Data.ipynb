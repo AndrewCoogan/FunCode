{
 "cells": [
  {
   "cell_type": "code",
   "execution_count": 1,
   "metadata": {},
   "outputs": [],
   "source": [
    "import pandas as pd\n",
    "import numpy as np\n",
    "\n",
    "import matplotlib.pyplot as plt\n",
    "import seaborn as sns\n",
    "\n",
    "from tqdm import tqdm\n",
    "import pickle\n",
    "\n",
    "from sklearn.preprocessing import StandardScaler\n",
    "from sklearn.decomposition import PCA\n",
    "from sklearn.model_selection import train_test_split\n",
    "from sklearn.model_selection import GridSearchCV, RandomizedSearchCV\n",
    "from sklearn.neighbors import KNeighborsClassifier\n",
    "from sklearn.linear_model import LogisticRegression\n",
    "from sklearn.tree import DecisionTreeClassifier\n",
    "from sklearn.ensemble import VotingClassifier\n",
    "from sklearn.neural_network import MLPClassifier\n",
    "from sklearn.metrics import mean_squared_error, accuracy_score\n",
    "\n",
    "import xgboost as xgb\n",
    "\n",
    "from mlxtend.classifier import StackingClassifier\n",
    "\n",
    "from tensorflow import keras\n",
    "from tensorflow.keras import layers\n",
    "\n",
    "from timeit import default_timer as timer\n",
    "from os.path import exists\n",
    "import itertools\n",
    "\n",
    "# Make sure you have a folder /Models in your running location."
   ]
  },
  {
   "cell_type": "code",
   "execution_count": 2,
   "metadata": {},
   "outputs": [
    {
     "data": {
      "text/html": [
       "<div>\n",
       "<style scoped>\n",
       "    .dataframe tbody tr th:only-of-type {\n",
       "        vertical-align: middle;\n",
       "    }\n",
       "\n",
       "    .dataframe tbody tr th {\n",
       "        vertical-align: top;\n",
       "    }\n",
       "\n",
       "    .dataframe thead th {\n",
       "        text-align: right;\n",
       "    }\n",
       "</style>\n",
       "<table border=\"1\" class=\"dataframe\">\n",
       "  <thead>\n",
       "    <tr style=\"text-align: right;\">\n",
       "      <th></th>\n",
       "      <th>age</th>\n",
       "      <th>workclass</th>\n",
       "      <th>fnlwgt</th>\n",
       "      <th>education</th>\n",
       "      <th>education-num</th>\n",
       "      <th>marital-status</th>\n",
       "      <th>occupation</th>\n",
       "      <th>relationship</th>\n",
       "      <th>race</th>\n",
       "      <th>sex</th>\n",
       "      <th>capital-gain</th>\n",
       "      <th>capital-loss</th>\n",
       "      <th>hours-per-week</th>\n",
       "      <th>native-country</th>\n",
       "      <th>income</th>\n",
       "    </tr>\n",
       "  </thead>\n",
       "  <tbody>\n",
       "    <tr>\n",
       "      <td>0</td>\n",
       "      <td>39</td>\n",
       "      <td>State-gov</td>\n",
       "      <td>77516</td>\n",
       "      <td>Bachelors</td>\n",
       "      <td>13</td>\n",
       "      <td>Never-married</td>\n",
       "      <td>Adm-clerical</td>\n",
       "      <td>Not-in-family</td>\n",
       "      <td>White</td>\n",
       "      <td>Male</td>\n",
       "      <td>2174</td>\n",
       "      <td>0</td>\n",
       "      <td>40</td>\n",
       "      <td>United-States</td>\n",
       "      <td>&lt;=50K</td>\n",
       "    </tr>\n",
       "    <tr>\n",
       "      <td>1</td>\n",
       "      <td>50</td>\n",
       "      <td>Self-emp-not-inc</td>\n",
       "      <td>83311</td>\n",
       "      <td>Bachelors</td>\n",
       "      <td>13</td>\n",
       "      <td>Married-civ-spouse</td>\n",
       "      <td>Exec-managerial</td>\n",
       "      <td>Husband</td>\n",
       "      <td>White</td>\n",
       "      <td>Male</td>\n",
       "      <td>0</td>\n",
       "      <td>0</td>\n",
       "      <td>13</td>\n",
       "      <td>United-States</td>\n",
       "      <td>&lt;=50K</td>\n",
       "    </tr>\n",
       "    <tr>\n",
       "      <td>2</td>\n",
       "      <td>38</td>\n",
       "      <td>Private</td>\n",
       "      <td>215646</td>\n",
       "      <td>HS-grad</td>\n",
       "      <td>9</td>\n",
       "      <td>Divorced</td>\n",
       "      <td>Handlers-cleaners</td>\n",
       "      <td>Not-in-family</td>\n",
       "      <td>White</td>\n",
       "      <td>Male</td>\n",
       "      <td>0</td>\n",
       "      <td>0</td>\n",
       "      <td>40</td>\n",
       "      <td>United-States</td>\n",
       "      <td>&lt;=50K</td>\n",
       "    </tr>\n",
       "    <tr>\n",
       "      <td>3</td>\n",
       "      <td>53</td>\n",
       "      <td>Private</td>\n",
       "      <td>234721</td>\n",
       "      <td>11th</td>\n",
       "      <td>7</td>\n",
       "      <td>Married-civ-spouse</td>\n",
       "      <td>Handlers-cleaners</td>\n",
       "      <td>Husband</td>\n",
       "      <td>Black</td>\n",
       "      <td>Male</td>\n",
       "      <td>0</td>\n",
       "      <td>0</td>\n",
       "      <td>40</td>\n",
       "      <td>United-States</td>\n",
       "      <td>&lt;=50K</td>\n",
       "    </tr>\n",
       "    <tr>\n",
       "      <td>4</td>\n",
       "      <td>28</td>\n",
       "      <td>Private</td>\n",
       "      <td>338409</td>\n",
       "      <td>Bachelors</td>\n",
       "      <td>13</td>\n",
       "      <td>Married-civ-spouse</td>\n",
       "      <td>Prof-specialty</td>\n",
       "      <td>Wife</td>\n",
       "      <td>Black</td>\n",
       "      <td>Female</td>\n",
       "      <td>0</td>\n",
       "      <td>0</td>\n",
       "      <td>40</td>\n",
       "      <td>Cuba</td>\n",
       "      <td>&lt;=50K</td>\n",
       "    </tr>\n",
       "  </tbody>\n",
       "</table>\n",
       "</div>"
      ],
      "text/plain": [
       "   age         workclass  fnlwgt  education  education-num  \\\n",
       "0   39         State-gov   77516  Bachelors             13   \n",
       "1   50  Self-emp-not-inc   83311  Bachelors             13   \n",
       "2   38           Private  215646    HS-grad              9   \n",
       "3   53           Private  234721       11th              7   \n",
       "4   28           Private  338409  Bachelors             13   \n",
       "\n",
       "       marital-status         occupation   relationship   race     sex  \\\n",
       "0       Never-married       Adm-clerical  Not-in-family  White    Male   \n",
       "1  Married-civ-spouse    Exec-managerial        Husband  White    Male   \n",
       "2            Divorced  Handlers-cleaners  Not-in-family  White    Male   \n",
       "3  Married-civ-spouse  Handlers-cleaners        Husband  Black    Male   \n",
       "4  Married-civ-spouse     Prof-specialty           Wife  Black  Female   \n",
       "\n",
       "   capital-gain  capital-loss  hours-per-week native-country income  \n",
       "0          2174             0              40  United-States  <=50K  \n",
       "1             0             0              13  United-States  <=50K  \n",
       "2             0             0              40  United-States  <=50K  \n",
       "3             0             0              40  United-States  <=50K  \n",
       "4             0             0              40           Cuba  <=50K  "
      ]
     },
     "execution_count": 2,
     "metadata": {},
     "output_type": "execute_result"
    }
   ],
   "source": [
    "data = pd.read_csv('Data/adult.data', header=None, skipinitialspace=True)\n",
    "data.columns = ['age', 'workclass', 'fnlwgt', 'education', 'education-num', 'marital-status',\\\n",
    "                'occupation', 'relationship', 'race', 'sex', 'capital-gain', 'capital-loss', 'hours-per-week',\\\n",
    "                'native-country', 'income']\n",
    "\n",
    "data.head()"
   ]
  },
  {
   "cell_type": "code",
   "execution_count": 3,
   "metadata": {},
   "outputs": [
    {
     "data": {
      "text/plain": [
       "(32561, 15)"
      ]
     },
     "execution_count": 3,
     "metadata": {},
     "output_type": "execute_result"
    }
   ],
   "source": [
    "data.shape"
   ]
  },
  {
   "cell_type": "code",
   "execution_count": 4,
   "metadata": {},
   "outputs": [
    {
     "data": {
      "text/plain": [
       "age                  0\n",
       "workclass         1836\n",
       "fnlwgt               0\n",
       "education            0\n",
       "education-num        0\n",
       "marital-status       0\n",
       "occupation        1843\n",
       "relationship         0\n",
       "race                 0\n",
       "sex                  0\n",
       "capital-gain         0\n",
       "capital-loss         0\n",
       "hours-per-week       0\n",
       "native-country     583\n",
       "income               0\n",
       "dtype: int64"
      ]
     },
     "execution_count": 4,
     "metadata": {},
     "output_type": "execute_result"
    }
   ],
   "source": [
    "# Missing values are denoted as '?' in the data.\n",
    "# We can see there are a few columns that are missing data.\n",
    "# I am going to try two different approaches for dealing with this later on.\n",
    "data.replace('?', np.nan, inplace=True)\n",
    "data.isna().sum()"
   ]
  },
  {
   "cell_type": "markdown",
   "metadata": {},
   "source": [
    "# What does the data look like and how do we want it to look?\n",
    "\n",
    "Age -- Continuous, no missing values\n",
    "\n",
    "Workclass -- Categorical, what sector is their employment in.  A few missing values, but we can probably bucketize this.\n",
    "\n",
    "fnlweight -- Continuous, this mertic explains how common the line item is for the nation.  I think this should be removed, but will test both.\n",
    "\n",
    "Education -- Categorical, will remove and use Education-Num.\n",
    "\n",
    "Education-Num -- Continuous, same info as education.\n",
    "\n",
    "Marital-Status -- Categorical, no missing values.\n",
    "\n",
    "Occupation -- Categorical, some missing values.  This is going to be a lot of unique values, I think this will be punted and workclass used.\n",
    "\n",
    "Relationship -- Categorical, may look to reduce dimenstionality for this one.\n",
    "\n",
    "Race -- Categorical, pretty concentrated, will probably dum-ify these.\n",
    "\n",
    "Sex -- Categorical, two options\n",
    "\n",
    "Capital-gain -- Continuous, mostly 0, we can possibly change this to be a bool if greater than zero.\n",
    "\n",
    "Capital-loss -- Continuous, mostly 0, we can possibly change this to be a bool if greater than zero.\n",
    "\n",
    "Hours-per-week -- Continuous\n",
    "\n",
    "Native-country -- Categorical, missing a few values.  Mostly concentraded as US, will summarize.\n",
    "\n",
    "Income -- Categorical, target value, what we are trying to predict."
   ]
  },
  {
   "cell_type": "markdown",
   "metadata": {},
   "source": [
    "### Workclass"
   ]
  },
  {
   "cell_type": "code",
   "execution_count": 5,
   "metadata": {},
   "outputs": [
    {
     "data": {
      "text/plain": [
       "Private             0.697030\n",
       "Self-emp-not-inc    0.078038\n",
       "Local-gov           0.064279\n",
       "NaN                 0.056386\n",
       "State-gov           0.039864\n",
       "Self-emp-inc        0.034274\n",
       "Federal-gov         0.029483\n",
       "Without-pay         0.000430\n",
       "Never-worked        0.000215\n",
       "Name: workclass, dtype: float64"
      ]
     },
     "execution_count": 5,
     "metadata": {},
     "output_type": "execute_result"
    }
   ],
   "source": [
    "# I suspect there is a good chunk of overlap here.\n",
    "data['workclass'].value_counts(normalize=True, dropna=False)"
   ]
  },
  {
   "cell_type": "code",
   "execution_count": 6,
   "metadata": {},
   "outputs": [
    {
     "data": {
      "text/plain": [
       "0    0.697030\n",
       "1    0.133626\n",
       "2    0.112312\n",
       "3    0.057031\n",
       "Name: workclass-cat, dtype: float64"
      ]
     },
     "execution_count": 6,
     "metadata": {},
     "output_type": "execute_result"
    }
   ],
   "source": [
    "# We will need to dummy this, but this will control some of the dimensionality.\n",
    "### NOTE: We are overwriting the NAN's and setting them to 3 (other) we should make note of this for when we test.\n",
    "gov_jobs = ['Local-gov', 'State-gov', 'Federal-gov']\n",
    "self_emp_jobs = ['Self-emp-not-inc', 'Self-emp-inc']\n",
    "\n",
    "data['workclass-cat'] = 3\n",
    "data.loc[data['workclass'].isin(self_emp_jobs), 'workclass-cat'] = 2\n",
    "data.loc[data['workclass'].isin(gov_jobs), 'workclass-cat'] = 1\n",
    "data.loc[data['workclass'] == 'Private', 'workclass-cat'] = 0\n",
    "\n",
    "data['workclass-cat'].value_counts(normalize=True)"
   ]
  },
  {
   "cell_type": "markdown",
   "metadata": {},
   "source": [
    "### Education and Education Num"
   ]
  },
  {
   "cell_type": "code",
   "execution_count": 7,
   "metadata": {},
   "outputs": [
    {
     "data": {
      "text/html": [
       "<div>\n",
       "<style scoped>\n",
       "    .dataframe tbody tr th:only-of-type {\n",
       "        vertical-align: middle;\n",
       "    }\n",
       "\n",
       "    .dataframe tbody tr th {\n",
       "        vertical-align: top;\n",
       "    }\n",
       "\n",
       "    .dataframe thead th {\n",
       "        text-align: right;\n",
       "    }\n",
       "</style>\n",
       "<table border=\"1\" class=\"dataframe\">\n",
       "  <thead>\n",
       "    <tr style=\"text-align: right;\">\n",
       "      <th></th>\n",
       "      <th>education-num</th>\n",
       "    </tr>\n",
       "    <tr>\n",
       "      <th>education</th>\n",
       "      <th></th>\n",
       "    </tr>\n",
       "  </thead>\n",
       "  <tbody>\n",
       "    <tr>\n",
       "      <td>10th</td>\n",
       "      <td>6</td>\n",
       "    </tr>\n",
       "    <tr>\n",
       "      <td>11th</td>\n",
       "      <td>7</td>\n",
       "    </tr>\n",
       "    <tr>\n",
       "      <td>12th</td>\n",
       "      <td>8</td>\n",
       "    </tr>\n",
       "    <tr>\n",
       "      <td>1st-4th</td>\n",
       "      <td>2</td>\n",
       "    </tr>\n",
       "    <tr>\n",
       "      <td>5th-6th</td>\n",
       "      <td>3</td>\n",
       "    </tr>\n",
       "    <tr>\n",
       "      <td>7th-8th</td>\n",
       "      <td>4</td>\n",
       "    </tr>\n",
       "    <tr>\n",
       "      <td>9th</td>\n",
       "      <td>5</td>\n",
       "    </tr>\n",
       "    <tr>\n",
       "      <td>Assoc-acdm</td>\n",
       "      <td>12</td>\n",
       "    </tr>\n",
       "    <tr>\n",
       "      <td>Assoc-voc</td>\n",
       "      <td>11</td>\n",
       "    </tr>\n",
       "    <tr>\n",
       "      <td>Bachelors</td>\n",
       "      <td>13</td>\n",
       "    </tr>\n",
       "    <tr>\n",
       "      <td>Doctorate</td>\n",
       "      <td>16</td>\n",
       "    </tr>\n",
       "    <tr>\n",
       "      <td>HS-grad</td>\n",
       "      <td>9</td>\n",
       "    </tr>\n",
       "    <tr>\n",
       "      <td>Masters</td>\n",
       "      <td>14</td>\n",
       "    </tr>\n",
       "    <tr>\n",
       "      <td>Preschool</td>\n",
       "      <td>1</td>\n",
       "    </tr>\n",
       "    <tr>\n",
       "      <td>Prof-school</td>\n",
       "      <td>15</td>\n",
       "    </tr>\n",
       "    <tr>\n",
       "      <td>Some-college</td>\n",
       "      <td>10</td>\n",
       "    </tr>\n",
       "  </tbody>\n",
       "</table>\n",
       "</div>"
      ],
      "text/plain": [
       "              education-num\n",
       "education                  \n",
       "10th                      6\n",
       "11th                      7\n",
       "12th                      8\n",
       "1st-4th                   2\n",
       "5th-6th                   3\n",
       "7th-8th                   4\n",
       "9th                       5\n",
       "Assoc-acdm               12\n",
       "Assoc-voc                11\n",
       "Bachelors                13\n",
       "Doctorate                16\n",
       "HS-grad                   9\n",
       "Masters                  14\n",
       "Preschool                 1\n",
       "Prof-school              15\n",
       "Some-college             10"
      ]
     },
     "execution_count": 7,
     "metadata": {},
     "output_type": "execute_result"
    }
   ],
   "source": [
    "# Quick look at education, we can boot this.  Education-Num is inclusive enough.\n",
    "data[['education', 'education-num']].groupby('education').mean()"
   ]
  },
  {
   "cell_type": "markdown",
   "metadata": {},
   "source": [
    "### Marital Status"
   ]
  },
  {
   "cell_type": "code",
   "execution_count": 8,
   "metadata": {},
   "outputs": [
    {
     "data": {
      "text/plain": [
       "Married-civ-spouse       14976\n",
       "Never-married            10683\n",
       "Divorced                  4443\n",
       "Separated                 1025\n",
       "Widowed                    993\n",
       "Married-spouse-absent      418\n",
       "Married-AF-spouse           23\n",
       "Name: marital-status, dtype: int64"
      ]
     },
     "execution_count": 8,
     "metadata": {},
     "output_type": "execute_result"
    }
   ],
   "source": [
    "data['marital-status'].value_counts()"
   ]
  },
  {
   "cell_type": "code",
   "execution_count": 9,
   "metadata": {},
   "outputs": [
    {
     "data": {
      "text/plain": [
       "Husband           13193\n",
       "Not-in-family      8305\n",
       "Own-child          5068\n",
       "Unmarried          3446\n",
       "Wife               1568\n",
       "Other-relative      981\n",
       "Name: relationship, dtype: int64"
      ]
     },
     "execution_count": 9,
     "metadata": {},
     "output_type": "execute_result"
    }
   ],
   "source": [
    "data['relationship'].value_counts()"
   ]
  },
  {
   "cell_type": "markdown",
   "metadata": {},
   "source": [
    "### Race and Native Country"
   ]
  },
  {
   "cell_type": "code",
   "execution_count": 10,
   "metadata": {},
   "outputs": [],
   "source": [
    "# We can honestly make this into 'White', 'Black', 'Other'\n",
    "data['race'].value_counts(normalize=True)\n",
    "\n",
    "data['race-cat'] = 2\n",
    "data.loc[data['race'] == 'Black', 'race-cat'] = 1\n",
    "data.loc[data['race'] == 'White', 'race-cat'] = 0"
   ]
  },
  {
   "cell_type": "code",
   "execution_count": 11,
   "metadata": {},
   "outputs": [
    {
     "data": {
      "text/plain": [
       "United-States    0.912190\n",
       "Mexico           0.020108\n",
       "Philippines      0.006192\n",
       "Germany          0.004284\n",
       "Canada           0.003784\n",
       "Name: native-country, dtype: float64"
      ]
     },
     "execution_count": 11,
     "metadata": {},
     "output_type": "execute_result"
    }
   ],
   "source": [
    "data['native-country'].value_counts(normalize=True).head(5)"
   ]
  },
  {
   "cell_type": "code",
   "execution_count": 12,
   "metadata": {},
   "outputs": [
    {
     "data": {
      "text/plain": [
       "1    0.895857\n",
       "0    0.104143\n",
       "Name: from-US, dtype: float64"
      ]
     },
     "execution_count": 12,
     "metadata": {},
     "output_type": "execute_result"
    }
   ],
   "source": [
    "# Since a vast majority come from the US, and everything else is less than 2%, lets make a new column that is US Bool\n",
    "data['from-US'] = 0\n",
    "data.loc[data['native-country'] == 'United-States', 'from-US'] = 1\n",
    "data['from-US'].astype('object')\n",
    "data['from-US'].value_counts(normalize=True)"
   ]
  },
  {
   "cell_type": "markdown",
   "metadata": {},
   "source": [
    "### Sex"
   ]
  },
  {
   "cell_type": "code",
   "execution_count": 13,
   "metadata": {},
   "outputs": [
    {
     "data": {
      "text/plain": [
       "1    0.669205\n",
       "0    0.330795\n",
       "Name: sex, dtype: float64"
      ]
     },
     "execution_count": 13,
     "metadata": {},
     "output_type": "execute_result"
    }
   ],
   "source": [
    "# We should convert sex from string to binary.  Easy enough.\n",
    "data['sex'] = data['sex'].map({'Male':1,'Female':0}).astype(object)\n",
    "data['sex'].value_counts(normalize=True)"
   ]
  },
  {
   "cell_type": "markdown",
   "metadata": {},
   "source": [
    "### Capitol Gain and Loss"
   ]
  },
  {
   "cell_type": "code",
   "execution_count": 14,
   "metadata": {},
   "outputs": [
    {
     "data": {
      "text/plain": [
       "<matplotlib.axes._subplots.AxesSubplot at 0x7fdaf4f989d0>"
      ]
     },
     "execution_count": 14,
     "metadata": {},
     "output_type": "execute_result"
    },
    {
     "data": {
      "image/png": "[encoded data removed]",
      "text/plain": [
       "<Figure size 432x288 with 1 Axes>"
      ]
     },
     "metadata": {
      "needs_background": "light"
     },
     "output_type": "display_data"
    }
   ],
   "source": [
    "data.loc[data['capital-gain'] > 0, 'capital-gain'].hist()"
   ]
  },
  {
   "cell_type": "code",
   "execution_count": 15,
   "metadata": {},
   "outputs": [
    {
     "data": {
      "text/plain": [
       "<matplotlib.axes._subplots.AxesSubplot at 0x7fdaf44abe90>"
      ]
     },
     "execution_count": 15,
     "metadata": {},
     "output_type": "execute_result"
    },
    {
     "data": {
      "image/png": "[encoded data removed]",
      "text/plain": [
       "<Figure size 432x288 with 1 Axes>"
      ]
     },
     "metadata": {
      "needs_background": "light"
     },
     "output_type": "display_data"
    }
   ],
   "source": [
    "data.loc[data['capital-loss'] > 0, 'capital-loss'].hist()"
   ]
  },
  {
   "cell_type": "markdown",
   "metadata": {},
   "source": [
    "# A Couple Graphs to Demonstrate Relationships"
   ]
  },
  {
   "cell_type": "code",
   "execution_count": 16,
   "metadata": {},
   "outputs": [
    {
     "data": {
      "image/png": "[encoded data removed]",
      "text/plain": [
       "<Figure size 432x288 with 2 Axes>"
      ]
     },
     "metadata": {
      "needs_background": "light"
     },
     "output_type": "display_data"
    }
   ],
   "source": [
    "income_by_education = data[['income', 'education-num']].groupby('income')\n",
    "income_by_education.boxplot()\n",
    "plt.suptitle('Education vs Income')\n",
    "plt.show()\n",
    "# Not surprisingly, we can see that those who make >50k a year have more years of education\n",
    "# I kinda want to expand this a bit"
   ]
  },
  {
   "cell_type": "code",
   "execution_count": 17,
   "metadata": {},
   "outputs": [
    {
     "data": {
      "text/plain": [
       "[Text(0.5, 1.0, 'CDF Income vs Age')]"
      ]
     },
     "execution_count": 17,
     "metadata": {},
     "output_type": "execute_result"
    },
    {
     "data": {
      "image/png": "[encoded data removed]",
      "text/plain": [
       "<Figure size 432x288 with 1 Axes>"
      ]
     },
     "metadata": {
      "needs_background": "light"
     },
     "output_type": "display_data"
    }
   ],
   "source": [
    "sns.kdeplot(data=data[['age','income']], x='age', hue='income',\\\n",
    "            cumulative=True, common_norm=False, common_grid=True).set(title='CDF Income vs Age')\n",
    "# There is a big age gap here, which is also intuitive.\n",
    "# People are not going to make more than 50k in their early years of productivity."
   ]
  },
  {
   "cell_type": "code",
   "execution_count": 18,
   "metadata": {},
   "outputs": [
    {
     "data": {
      "text/plain": [
       "[Text(0.5, 1.0, 'CDF Income vs Hours Worked Per Week')]"
      ]
     },
     "execution_count": 18,
     "metadata": {},
     "output_type": "execute_result"
    },
    {
     "data": {
      "image/png": "[encoded data removed]",
      "text/plain": [
       "<Figure size 432x288 with 1 Axes>"
      ]
     },
     "metadata": {
      "needs_background": "light"
     },
     "output_type": "display_data"
    }
   ],
   "source": [
    "sns.kdeplot(data=data[['hours-per-week','income']], x='hours-per-week', hue='income',\\\n",
    "            cumulative=True, common_norm=False, common_grid=True).set(title='CDF Income vs Hours Worked Per Week')\n",
    "# This is also intuitive, those who make more than 50k a year end up working more hours on average"
   ]
  },
  {
   "cell_type": "code",
   "execution_count": 19,
   "metadata": {},
   "outputs": [
    {
     "name": "stdout",
     "output_type": "stream",
     "text": [
      "<class 'pandas.core.frame.DataFrame'>\n",
      "RangeIndex: 32561 entries, 0 to 32560\n",
      "Data columns (total 18 columns):\n",
      "age               32561 non-null int64\n",
      "workclass         30725 non-null object\n",
      "fnlwgt            32561 non-null int64\n",
      "education         32561 non-null object\n",
      "education-num     32561 non-null int64\n",
      "marital-status    32561 non-null object\n",
      "occupation        30718 non-null object\n",
      "relationship      32561 non-null object\n",
      "race              32561 non-null object\n",
      "sex               32561 non-null object\n",
      "capital-gain      32561 non-null int64\n",
      "capital-loss      32561 non-null int64\n",
      "hours-per-week    32561 non-null int64\n",
      "native-country    31978 non-null object\n",
      "income            32561 non-null object\n",
      "workclass-cat     32561 non-null int64\n",
      "race-cat          32561 non-null int64\n",
      "from-US           32561 non-null int64\n",
      "dtypes: int64(9), object(9)\n",
      "memory usage: 4.5+ MB\n"
     ]
    }
   ],
   "source": [
    "data.info()"
   ]
  },
  {
   "cell_type": "code",
   "execution_count": 20,
   "metadata": {},
   "outputs": [
    {
     "data": {
      "text/html": [
       "<div>\n",
       "<style scoped>\n",
       "    .dataframe tbody tr th:only-of-type {\n",
       "        vertical-align: middle;\n",
       "    }\n",
       "\n",
       "    .dataframe tbody tr th {\n",
       "        vertical-align: top;\n",
       "    }\n",
       "\n",
       "    .dataframe thead th {\n",
       "        text-align: right;\n",
       "    }\n",
       "</style>\n",
       "<table border=\"1\" class=\"dataframe\">\n",
       "  <thead>\n",
       "    <tr style=\"text-align: right;\">\n",
       "      <th></th>\n",
       "      <th>age</th>\n",
       "      <th>workclass</th>\n",
       "      <th>fnlwgt</th>\n",
       "      <th>education</th>\n",
       "      <th>education-num</th>\n",
       "      <th>marital-status</th>\n",
       "      <th>occupation</th>\n",
       "      <th>relationship</th>\n",
       "      <th>race</th>\n",
       "      <th>sex</th>\n",
       "      <th>capital-gain</th>\n",
       "      <th>capital-loss</th>\n",
       "      <th>hours-per-week</th>\n",
       "      <th>native-country</th>\n",
       "      <th>income</th>\n",
       "      <th>workclass-cat</th>\n",
       "      <th>race-cat</th>\n",
       "      <th>from-US</th>\n",
       "    </tr>\n",
       "  </thead>\n",
       "  <tbody>\n",
       "    <tr>\n",
       "      <td>0</td>\n",
       "      <td>39</td>\n",
       "      <td>State-gov</td>\n",
       "      <td>77516</td>\n",
       "      <td>Bachelors</td>\n",
       "      <td>13</td>\n",
       "      <td>Never-married</td>\n",
       "      <td>Adm-clerical</td>\n",
       "      <td>Not-in-family</td>\n",
       "      <td>White</td>\n",
       "      <td>1</td>\n",
       "      <td>2174</td>\n",
       "      <td>0</td>\n",
       "      <td>40</td>\n",
       "      <td>United-States</td>\n",
       "      <td>&lt;=50K</td>\n",
       "      <td>1</td>\n",
       "      <td>0</td>\n",
       "      <td>1</td>\n",
       "    </tr>\n",
       "    <tr>\n",
       "      <td>1</td>\n",
       "      <td>50</td>\n",
       "      <td>Self-emp-not-inc</td>\n",
       "      <td>83311</td>\n",
       "      <td>Bachelors</td>\n",
       "      <td>13</td>\n",
       "      <td>Married-civ-spouse</td>\n",
       "      <td>Exec-managerial</td>\n",
       "      <td>Husband</td>\n",
       "      <td>White</td>\n",
       "      <td>1</td>\n",
       "      <td>0</td>\n",
       "      <td>0</td>\n",
       "      <td>13</td>\n",
       "      <td>United-States</td>\n",
       "      <td>&lt;=50K</td>\n",
       "      <td>2</td>\n",
       "      <td>0</td>\n",
       "      <td>1</td>\n",
       "    </tr>\n",
       "    <tr>\n",
       "      <td>2</td>\n",
       "      <td>38</td>\n",
       "      <td>Private</td>\n",
       "      <td>215646</td>\n",
       "      <td>HS-grad</td>\n",
       "      <td>9</td>\n",
       "      <td>Divorced</td>\n",
       "      <td>Handlers-cleaners</td>\n",
       "      <td>Not-in-family</td>\n",
       "      <td>White</td>\n",
       "      <td>1</td>\n",
       "      <td>0</td>\n",
       "      <td>0</td>\n",
       "      <td>40</td>\n",
       "      <td>United-States</td>\n",
       "      <td>&lt;=50K</td>\n",
       "      <td>0</td>\n",
       "      <td>0</td>\n",
       "      <td>1</td>\n",
       "    </tr>\n",
       "    <tr>\n",
       "      <td>3</td>\n",
       "      <td>53</td>\n",
       "      <td>Private</td>\n",
       "      <td>234721</td>\n",
       "      <td>11th</td>\n",
       "      <td>7</td>\n",
       "      <td>Married-civ-spouse</td>\n",
       "      <td>Handlers-cleaners</td>\n",
       "      <td>Husband</td>\n",
       "      <td>Black</td>\n",
       "      <td>1</td>\n",
       "      <td>0</td>\n",
       "      <td>0</td>\n",
       "      <td>40</td>\n",
       "      <td>United-States</td>\n",
       "      <td>&lt;=50K</td>\n",
       "      <td>0</td>\n",
       "      <td>1</td>\n",
       "      <td>1</td>\n",
       "    </tr>\n",
       "    <tr>\n",
       "      <td>4</td>\n",
       "      <td>28</td>\n",
       "      <td>Private</td>\n",
       "      <td>338409</td>\n",
       "      <td>Bachelors</td>\n",
       "      <td>13</td>\n",
       "      <td>Married-civ-spouse</td>\n",
       "      <td>Prof-specialty</td>\n",
       "      <td>Wife</td>\n",
       "      <td>Black</td>\n",
       "      <td>0</td>\n",
       "      <td>0</td>\n",
       "      <td>0</td>\n",
       "      <td>40</td>\n",
       "      <td>Cuba</td>\n",
       "      <td>&lt;=50K</td>\n",
       "      <td>0</td>\n",
       "      <td>1</td>\n",
       "      <td>0</td>\n",
       "    </tr>\n",
       "  </tbody>\n",
       "</table>\n",
       "</div>"
      ],
      "text/plain": [
       "   age         workclass  fnlwgt  education  education-num  \\\n",
       "0   39         State-gov   77516  Bachelors             13   \n",
       "1   50  Self-emp-not-inc   83311  Bachelors             13   \n",
       "2   38           Private  215646    HS-grad              9   \n",
       "3   53           Private  234721       11th              7   \n",
       "4   28           Private  338409  Bachelors             13   \n",
       "\n",
       "       marital-status         occupation   relationship   race sex  \\\n",
       "0       Never-married       Adm-clerical  Not-in-family  White   1   \n",
       "1  Married-civ-spouse    Exec-managerial        Husband  White   1   \n",
       "2            Divorced  Handlers-cleaners  Not-in-family  White   1   \n",
       "3  Married-civ-spouse  Handlers-cleaners        Husband  Black   1   \n",
       "4  Married-civ-spouse     Prof-specialty           Wife  Black   0   \n",
       "\n",
       "   capital-gain  capital-loss  hours-per-week native-country income  \\\n",
       "0          2174             0              40  United-States  <=50K   \n",
       "1             0             0              13  United-States  <=50K   \n",
       "2             0             0              40  United-States  <=50K   \n",
       "3             0             0              40  United-States  <=50K   \n",
       "4             0             0              40           Cuba  <=50K   \n",
       "\n",
       "   workclass-cat  race-cat  from-US  \n",
       "0              1         0        1  \n",
       "1              2         0        1  \n",
       "2              0         0        1  \n",
       "3              0         1        1  \n",
       "4              0         1        0  "
      ]
     },
     "execution_count": 20,
     "metadata": {},
     "output_type": "execute_result"
    }
   ],
   "source": [
    "data.head()"
   ]
  },
  {
   "cell_type": "markdown",
   "metadata": {},
   "source": [
    "# Summary Before We Start Modeling\n",
    "\n",
    "Columns to remove:\n",
    "    - workclass, fnlwgt, education, occupation, race, capital-gain, capital-loss\n",
    "    \n",
    "Columns to dummy:\n",
    "    - marital-status, relationship, race-cat, workclass-cat, race-cat\n",
    "    \n",
    "Things to modify:\n",
    "    - change income to 1 if '>50K', else 0"
   ]
  },
  {
   "cell_type": "code",
   "execution_count": 21,
   "metadata": {},
   "outputs": [
    {
     "data": {
      "text/html": [
       "<div>\n",
       "<style scoped>\n",
       "    .dataframe tbody tr th:only-of-type {\n",
       "        vertical-align: middle;\n",
       "    }\n",
       "\n",
       "    .dataframe tbody tr th {\n",
       "        vertical-align: top;\n",
       "    }\n",
       "\n",
       "    .dataframe thead th {\n",
       "        text-align: right;\n",
       "    }\n",
       "</style>\n",
       "<table border=\"1\" class=\"dataframe\">\n",
       "  <thead>\n",
       "    <tr style=\"text-align: right;\">\n",
       "      <th></th>\n",
       "      <th>age</th>\n",
       "      <th>education-num</th>\n",
       "      <th>marital-status</th>\n",
       "      <th>relationship</th>\n",
       "      <th>sex</th>\n",
       "      <th>capital-gain</th>\n",
       "      <th>capital-loss</th>\n",
       "      <th>hours-per-week</th>\n",
       "      <th>income</th>\n",
       "      <th>workclass-cat</th>\n",
       "      <th>race-cat</th>\n",
       "      <th>from-US</th>\n",
       "    </tr>\n",
       "  </thead>\n",
       "  <tbody>\n",
       "    <tr>\n",
       "      <td>0</td>\n",
       "      <td>39</td>\n",
       "      <td>13</td>\n",
       "      <td>Never-married</td>\n",
       "      <td>Not-in-family</td>\n",
       "      <td>1</td>\n",
       "      <td>2174</td>\n",
       "      <td>0</td>\n",
       "      <td>40</td>\n",
       "      <td>0</td>\n",
       "      <td>1</td>\n",
       "      <td>0</td>\n",
       "      <td>1</td>\n",
       "    </tr>\n",
       "    <tr>\n",
       "      <td>1</td>\n",
       "      <td>50</td>\n",
       "      <td>13</td>\n",
       "      <td>Married-civ-spouse</td>\n",
       "      <td>Husband</td>\n",
       "      <td>1</td>\n",
       "      <td>0</td>\n",
       "      <td>0</td>\n",
       "      <td>13</td>\n",
       "      <td>0</td>\n",
       "      <td>2</td>\n",
       "      <td>0</td>\n",
       "      <td>1</td>\n",
       "    </tr>\n",
       "    <tr>\n",
       "      <td>2</td>\n",
       "      <td>38</td>\n",
       "      <td>9</td>\n",
       "      <td>Divorced</td>\n",
       "      <td>Not-in-family</td>\n",
       "      <td>1</td>\n",
       "      <td>0</td>\n",
       "      <td>0</td>\n",
       "      <td>40</td>\n",
       "      <td>0</td>\n",
       "      <td>0</td>\n",
       "      <td>0</td>\n",
       "      <td>1</td>\n",
       "    </tr>\n",
       "    <tr>\n",
       "      <td>3</td>\n",
       "      <td>53</td>\n",
       "      <td>7</td>\n",
       "      <td>Married-civ-spouse</td>\n",
       "      <td>Husband</td>\n",
       "      <td>1</td>\n",
       "      <td>0</td>\n",
       "      <td>0</td>\n",
       "      <td>40</td>\n",
       "      <td>0</td>\n",
       "      <td>0</td>\n",
       "      <td>1</td>\n",
       "      <td>1</td>\n",
       "    </tr>\n",
       "    <tr>\n",
       "      <td>4</td>\n",
       "      <td>28</td>\n",
       "      <td>13</td>\n",
       "      <td>Married-civ-spouse</td>\n",
       "      <td>Wife</td>\n",
       "      <td>0</td>\n",
       "      <td>0</td>\n",
       "      <td>0</td>\n",
       "      <td>40</td>\n",
       "      <td>0</td>\n",
       "      <td>0</td>\n",
       "      <td>1</td>\n",
       "      <td>0</td>\n",
       "    </tr>\n",
       "  </tbody>\n",
       "</table>\n",
       "</div>"
      ],
      "text/plain": [
       "   age  education-num      marital-status   relationship sex  capital-gain  \\\n",
       "0   39             13       Never-married  Not-in-family   1          2174   \n",
       "1   50             13  Married-civ-spouse        Husband   1             0   \n",
       "2   38              9            Divorced  Not-in-family   1             0   \n",
       "3   53              7  Married-civ-spouse        Husband   1             0   \n",
       "4   28             13  Married-civ-spouse           Wife   0             0   \n",
       "\n",
       "   capital-loss  hours-per-week  income  workclass-cat  race-cat  from-US  \n",
       "0             0              40       0              1         0        1  \n",
       "1             0              13       0              2         0        1  \n",
       "2             0              40       0              0         0        1  \n",
       "3             0              40       0              0         1        1  \n",
       "4             0              40       0              0         1        0  "
      ]
     },
     "execution_count": 21,
     "metadata": {},
     "output_type": "execute_result"
    }
   ],
   "source": [
    "cols_to_drop = ['workclass', 'fnlwgt', 'education', 'occupation', 'race', 'native-country']\n",
    "cols_to_dummy = ['marital-status', 'relationship', 'race-cat', 'workclass-cat']\n",
    "\n",
    "data['income'] = data['income'].map({'>50K':1,'<=50K':0}).astype(int)\n",
    "data.drop(cols_to_drop, inplace=True, axis=1)\n",
    "\n",
    "data.head()"
   ]
  },
  {
   "cell_type": "code",
   "execution_count": 22,
   "metadata": {},
   "outputs": [
    {
     "data": {
      "text/html": [
       "<div>\n",
       "<style scoped>\n",
       "    .dataframe tbody tr th:only-of-type {\n",
       "        vertical-align: middle;\n",
       "    }\n",
       "\n",
       "    .dataframe tbody tr th {\n",
       "        vertical-align: top;\n",
       "    }\n",
       "\n",
       "    .dataframe thead th {\n",
       "        text-align: right;\n",
       "    }\n",
       "</style>\n",
       "<table border=\"1\" class=\"dataframe\">\n",
       "  <thead>\n",
       "    <tr style=\"text-align: right;\">\n",
       "      <th></th>\n",
       "      <th>age</th>\n",
       "      <th>education-num</th>\n",
       "      <th>sex</th>\n",
       "      <th>capital-gain</th>\n",
       "      <th>capital-loss</th>\n",
       "      <th>hours-per-week</th>\n",
       "      <th>income</th>\n",
       "      <th>from-US</th>\n",
       "      <th>marital-status_Divorced</th>\n",
       "      <th>marital-status_Married-AF-spouse</th>\n",
       "      <th>...</th>\n",
       "      <th>marital-status_Married-spouse-absent</th>\n",
       "      <th>marital-status_Never-married</th>\n",
       "      <th>marital-status_Separated</th>\n",
       "      <th>marital-status_Widowed</th>\n",
       "      <th>relationship_Husband</th>\n",
       "      <th>relationship_Not-in-family</th>\n",
       "      <th>relationship_Other-relative</th>\n",
       "      <th>relationship_Own-child</th>\n",
       "      <th>relationship_Unmarried</th>\n",
       "      <th>relationship_Wife</th>\n",
       "    </tr>\n",
       "  </thead>\n",
       "  <tbody>\n",
       "    <tr>\n",
       "      <td>0</td>\n",
       "      <td>39</td>\n",
       "      <td>13</td>\n",
       "      <td>1</td>\n",
       "      <td>2174</td>\n",
       "      <td>0</td>\n",
       "      <td>40</td>\n",
       "      <td>0</td>\n",
       "      <td>1</td>\n",
       "      <td>0</td>\n",
       "      <td>0</td>\n",
       "      <td>...</td>\n",
       "      <td>0</td>\n",
       "      <td>1</td>\n",
       "      <td>0</td>\n",
       "      <td>0</td>\n",
       "      <td>0</td>\n",
       "      <td>1</td>\n",
       "      <td>0</td>\n",
       "      <td>0</td>\n",
       "      <td>0</td>\n",
       "      <td>0</td>\n",
       "    </tr>\n",
       "    <tr>\n",
       "      <td>1</td>\n",
       "      <td>50</td>\n",
       "      <td>13</td>\n",
       "      <td>1</td>\n",
       "      <td>0</td>\n",
       "      <td>0</td>\n",
       "      <td>13</td>\n",
       "      <td>0</td>\n",
       "      <td>1</td>\n",
       "      <td>0</td>\n",
       "      <td>0</td>\n",
       "      <td>...</td>\n",
       "      <td>0</td>\n",
       "      <td>0</td>\n",
       "      <td>0</td>\n",
       "      <td>0</td>\n",
       "      <td>1</td>\n",
       "      <td>0</td>\n",
       "      <td>0</td>\n",
       "      <td>0</td>\n",
       "      <td>0</td>\n",
       "      <td>0</td>\n",
       "    </tr>\n",
       "    <tr>\n",
       "      <td>2</td>\n",
       "      <td>38</td>\n",
       "      <td>9</td>\n",
       "      <td>1</td>\n",
       "      <td>0</td>\n",
       "      <td>0</td>\n",
       "      <td>40</td>\n",
       "      <td>0</td>\n",
       "      <td>1</td>\n",
       "      <td>1</td>\n",
       "      <td>0</td>\n",
       "      <td>...</td>\n",
       "      <td>0</td>\n",
       "      <td>0</td>\n",
       "      <td>0</td>\n",
       "      <td>0</td>\n",
       "      <td>0</td>\n",
       "      <td>1</td>\n",
       "      <td>0</td>\n",
       "      <td>0</td>\n",
       "      <td>0</td>\n",
       "      <td>0</td>\n",
       "    </tr>\n",
       "    <tr>\n",
       "      <td>3</td>\n",
       "      <td>53</td>\n",
       "      <td>7</td>\n",
       "      <td>1</td>\n",
       "      <td>0</td>\n",
       "      <td>0</td>\n",
       "      <td>40</td>\n",
       "      <td>0</td>\n",
       "      <td>1</td>\n",
       "      <td>0</td>\n",
       "      <td>0</td>\n",
       "      <td>...</td>\n",
       "      <td>0</td>\n",
       "      <td>0</td>\n",
       "      <td>0</td>\n",
       "      <td>0</td>\n",
       "      <td>1</td>\n",
       "      <td>0</td>\n",
       "      <td>0</td>\n",
       "      <td>0</td>\n",
       "      <td>0</td>\n",
       "      <td>0</td>\n",
       "    </tr>\n",
       "    <tr>\n",
       "      <td>4</td>\n",
       "      <td>28</td>\n",
       "      <td>13</td>\n",
       "      <td>0</td>\n",
       "      <td>0</td>\n",
       "      <td>0</td>\n",
       "      <td>40</td>\n",
       "      <td>0</td>\n",
       "      <td>0</td>\n",
       "      <td>0</td>\n",
       "      <td>0</td>\n",
       "      <td>...</td>\n",
       "      <td>0</td>\n",
       "      <td>0</td>\n",
       "      <td>0</td>\n",
       "      <td>0</td>\n",
       "      <td>0</td>\n",
       "      <td>0</td>\n",
       "      <td>0</td>\n",
       "      <td>0</td>\n",
       "      <td>0</td>\n",
       "      <td>1</td>\n",
       "    </tr>\n",
       "  </tbody>\n",
       "</table>\n",
       "<p>5 rows × 21 columns</p>\n",
       "</div>"
      ],
      "text/plain": [
       "   age  education-num sex  capital-gain  capital-loss  hours-per-week  income  \\\n",
       "0   39             13   1          2174             0              40       0   \n",
       "1   50             13   1             0             0              13       0   \n",
       "2   38              9   1             0             0              40       0   \n",
       "3   53              7   1             0             0              40       0   \n",
       "4   28             13   0             0             0              40       0   \n",
       "\n",
       "   from-US  marital-status_Divorced  marital-status_Married-AF-spouse  ...  \\\n",
       "0        1                        0                                 0  ...   \n",
       "1        1                        0                                 0  ...   \n",
       "2        1                        1                                 0  ...   \n",
       "3        1                        0                                 0  ...   \n",
       "4        0                        0                                 0  ...   \n",
       "\n",
       "   marital-status_Married-spouse-absent  marital-status_Never-married  \\\n",
       "0                                     0                             1   \n",
       "1                                     0                             0   \n",
       "2                                     0                             0   \n",
       "3                                     0                             0   \n",
       "4                                     0                             0   \n",
       "\n",
       "   marital-status_Separated  marital-status_Widowed  relationship_Husband  \\\n",
       "0                         0                       0                     0   \n",
       "1                         0                       0                     1   \n",
       "2                         0                       0                     0   \n",
       "3                         0                       0                     1   \n",
       "4                         0                       0                     0   \n",
       "\n",
       "   relationship_Not-in-family  relationship_Other-relative  \\\n",
       "0                           1                            0   \n",
       "1                           0                            0   \n",
       "2                           1                            0   \n",
       "3                           0                            0   \n",
       "4                           0                            0   \n",
       "\n",
       "   relationship_Own-child  relationship_Unmarried  relationship_Wife  \n",
       "0                       0                       0                  0  \n",
       "1                       0                       0                  0  \n",
       "2                       0                       0                  0  \n",
       "3                       0                       0                  0  \n",
       "4                       0                       0                  1  \n",
       "\n",
       "[5 rows x 21 columns]"
      ]
     },
     "execution_count": 22,
     "metadata": {},
     "output_type": "execute_result"
    }
   ],
   "source": [
    "dummies = pd.get_dummies(data[cols_to_dummy])\n",
    "data[dummies.columns] = dummies\n",
    "data.drop(cols_to_dummy, inplace=True, axis=1)\n",
    "data.head()"
   ]
  },
  {
   "cell_type": "markdown",
   "metadata": {},
   "source": [
    "# Functions"
   ]
  },
  {
   "cell_type": "code",
   "execution_count": 23,
   "metadata": {},
   "outputs": [],
   "source": [
    "def load_and_process_data() -> pd.DataFrame:\n",
    "    data = pd.read_csv('Data/adult.data', header=None, skipinitialspace=True)\n",
    "    data.columns = ['age', 'workclass', 'fnlwgt', 'education', 'education-num', 'marital-status',\\\n",
    "                    'occupation', 'relationship', 'race', 'sex', 'capital-gain', 'capital-loss', 'hours-per-week',\\\n",
    "                    'native-country', 'income']\n",
    "    \n",
    "    # Change the missing value (?) to something we can work with.\n",
    "    data.replace('?', np.nan, inplace=True)\n",
    "    \n",
    "    # We are going to bucketize the workclass\n",
    "    gov_jobs = ['Local-gov', 'State-gov', 'Federal-gov']\n",
    "    self_emp_jobs = ['Self-emp-not-inc', 'Self-emp-inc']\n",
    "\n",
    "    data['workclass-cat'] = 3\n",
    "    data.loc[data['workclass'].isin(self_emp_jobs), 'workclass-cat'] = 2\n",
    "    data.loc[data['workclass'].isin(gov_jobs), 'workclass-cat'] = 1\n",
    "    data.loc[data['workclass'] == 'Private', 'workclass-cat'] = 0\n",
    "    \n",
    "    # We are going to bucketize the races\n",
    "    data['race-cat'] = 2\n",
    "    data.loc[data['race'] == 'Black', 'race-cat'] = 1\n",
    "    data.loc[data['race'] == 'White', 'race-cat'] = 0\n",
    "    \n",
    "    # And where everyone is from\n",
    "    data['from-US'] = 0\n",
    "    data.loc[data['native-country'] == 'United-States', 'from-US'] = 1\n",
    "    \n",
    "    # Map male and female to numerical\n",
    "    data['sex'] = data['sex'].map({'Male':1,'Female':0})\n",
    "    \n",
    "    # Map the target column\n",
    "    data['income'] = data['income'].map({'>50K':1,'<=50K':0})\n",
    "    \n",
    "    cols_to_drop = ['workclass', 'fnlwgt', 'education', 'occupation', 'race', 'native-country']    \n",
    "    data.drop(cols_to_drop, axis=1, inplace=True)\n",
    "    \n",
    "    return data\n",
    "\n",
    "def save_model(model, name):\n",
    "    with open(f'Models/{name}.pkl', 'wb') as fid:\n",
    "        pickle.dump(model, fid)  \n",
    "        \n",
    "def load_model(name):\n",
    "    with open(f'Models/{name}.pkl', 'rb') as fid:\n",
    "        model = pickle.load(fid)\n",
    "    return model"
   ]
  },
  {
   "cell_type": "markdown",
   "metadata": {},
   "source": [
    "# Lets Make a Model"
   ]
  },
  {
   "cell_type": "code",
   "execution_count": 24,
   "metadata": {},
   "outputs": [],
   "source": [
    "data = load_and_process_data()\n",
    "\n",
    "TGT_COL = ['income']\n",
    "NUM_COL = ['age', 'education-num', 'hours-per-week', 'capital-gain', 'capital-loss']\n",
    "CAT_COL = ['marital-status', 'relationship', 'race-cat', 'workclass-cat']\n",
    "\n",
    "dummies = pd.get_dummies(data[CAT_COL])\n",
    "data = pd.concat([data, dummies], axis=1)\n",
    "data.drop(CAT_COL, inplace=True, axis=1)\n",
    "  \n",
    "X = data.drop('income', axis=1)\n",
    "y = data['income']\n",
    "\n",
    "X_train, X_test, y_train, y_test = train_test_split(X, y, test_size=0.3, stratify=y, random_state=42)\n",
    "\n",
    "X_train.reset_index(inplace=True, drop=True)\n",
    "X_test.reset_index(inplace=True, drop=True)\n",
    "\n",
    "sc_num_cols = pd.DataFrame(StandardScaler().fit_transform(X_train[NUM_COL]),\n",
    "                           columns=['sc_' + str(w) for w in NUM_COL])\n",
    "X_train = pd.concat([X_train, sc_num_cols], axis=1)\n",
    "\n",
    "sc_num_cols = pd.DataFrame(StandardScaler().fit_transform(X_test[NUM_COL]), \n",
    "                           columns=['sc_' + str(w) for w in NUM_COL])\n",
    "X_test = pd.concat([X_test, sc_num_cols], axis=1)"
   ]
  },
  {
   "cell_type": "code",
   "execution_count": 74,
   "metadata": {},
   "outputs": [
    {
     "data": {
      "text/html": [
       "<div>\n",
       "<style scoped>\n",
       "    .dataframe tbody tr th:only-of-type {\n",
       "        vertical-align: middle;\n",
       "    }\n",
       "\n",
       "    .dataframe tbody tr th {\n",
       "        vertical-align: top;\n",
       "    }\n",
       "\n",
       "    .dataframe thead th {\n",
       "        text-align: right;\n",
       "    }\n",
       "</style>\n",
       "<table border=\"1\" class=\"dataframe\">\n",
       "  <thead>\n",
       "    <tr style=\"text-align: right;\">\n",
       "      <th></th>\n",
       "      <th>age</th>\n",
       "      <th>education-num</th>\n",
       "      <th>sex</th>\n",
       "      <th>capital-gain</th>\n",
       "      <th>capital-loss</th>\n",
       "      <th>hours-per-week</th>\n",
       "      <th>from-US</th>\n",
       "      <th>marital-status_Divorced</th>\n",
       "      <th>marital-status_Married-AF-spouse</th>\n",
       "      <th>marital-status_Married-civ-spouse</th>\n",
       "      <th>...</th>\n",
       "      <th>relationship_Not-in-family</th>\n",
       "      <th>relationship_Other-relative</th>\n",
       "      <th>relationship_Own-child</th>\n",
       "      <th>relationship_Unmarried</th>\n",
       "      <th>relationship_Wife</th>\n",
       "      <th>sc_age</th>\n",
       "      <th>sc_education-num</th>\n",
       "      <th>sc_hours-per-week</th>\n",
       "      <th>sc_capital-gain</th>\n",
       "      <th>sc_capital-loss</th>\n",
       "    </tr>\n",
       "  </thead>\n",
       "  <tbody>\n",
       "    <tr>\n",
       "      <td>0</td>\n",
       "      <td>43</td>\n",
       "      <td>7</td>\n",
       "      <td>1</td>\n",
       "      <td>0</td>\n",
       "      <td>0</td>\n",
       "      <td>60</td>\n",
       "      <td>1</td>\n",
       "      <td>0</td>\n",
       "      <td>0</td>\n",
       "      <td>1</td>\n",
       "      <td>...</td>\n",
       "      <td>0</td>\n",
       "      <td>0</td>\n",
       "      <td>0</td>\n",
       "      <td>0</td>\n",
       "      <td>0</td>\n",
       "      <td>0.323996</td>\n",
       "      <td>-1.187429</td>\n",
       "      <td>1.572934</td>\n",
       "      <td>-0.146047</td>\n",
       "      <td>-0.215155</td>\n",
       "    </tr>\n",
       "    <tr>\n",
       "      <td>1</td>\n",
       "      <td>18</td>\n",
       "      <td>10</td>\n",
       "      <td>0</td>\n",
       "      <td>0</td>\n",
       "      <td>1602</td>\n",
       "      <td>20</td>\n",
       "      <td>1</td>\n",
       "      <td>0</td>\n",
       "      <td>0</td>\n",
       "      <td>0</td>\n",
       "      <td>...</td>\n",
       "      <td>0</td>\n",
       "      <td>0</td>\n",
       "      <td>1</td>\n",
       "      <td>0</td>\n",
       "      <td>0</td>\n",
       "      <td>-1.510030</td>\n",
       "      <td>-0.028839</td>\n",
       "      <td>-1.648494</td>\n",
       "      <td>-0.146047</td>\n",
       "      <td>3.775441</td>\n",
       "    </tr>\n",
       "    <tr>\n",
       "      <td>2</td>\n",
       "      <td>34</td>\n",
       "      <td>10</td>\n",
       "      <td>0</td>\n",
       "      <td>0</td>\n",
       "      <td>0</td>\n",
       "      <td>40</td>\n",
       "      <td>1</td>\n",
       "      <td>0</td>\n",
       "      <td>0</td>\n",
       "      <td>0</td>\n",
       "      <td>...</td>\n",
       "      <td>1</td>\n",
       "      <td>0</td>\n",
       "      <td>0</td>\n",
       "      <td>0</td>\n",
       "      <td>0</td>\n",
       "      <td>-0.336253</td>\n",
       "      <td>-0.028839</td>\n",
       "      <td>-0.037780</td>\n",
       "      <td>-0.146047</td>\n",
       "      <td>-0.215155</td>\n",
       "    </tr>\n",
       "    <tr>\n",
       "      <td>3</td>\n",
       "      <td>17</td>\n",
       "      <td>6</td>\n",
       "      <td>0</td>\n",
       "      <td>0</td>\n",
       "      <td>0</td>\n",
       "      <td>12</td>\n",
       "      <td>1</td>\n",
       "      <td>0</td>\n",
       "      <td>0</td>\n",
       "      <td>0</td>\n",
       "      <td>...</td>\n",
       "      <td>0</td>\n",
       "      <td>0</td>\n",
       "      <td>0</td>\n",
       "      <td>1</td>\n",
       "      <td>0</td>\n",
       "      <td>-1.583391</td>\n",
       "      <td>-1.573625</td>\n",
       "      <td>-2.292780</td>\n",
       "      <td>-0.146047</td>\n",
       "      <td>-0.215155</td>\n",
       "    </tr>\n",
       "    <tr>\n",
       "      <td>4</td>\n",
       "      <td>41</td>\n",
       "      <td>10</td>\n",
       "      <td>0</td>\n",
       "      <td>0</td>\n",
       "      <td>0</td>\n",
       "      <td>36</td>\n",
       "      <td>1</td>\n",
       "      <td>1</td>\n",
       "      <td>0</td>\n",
       "      <td>0</td>\n",
       "      <td>...</td>\n",
       "      <td>1</td>\n",
       "      <td>0</td>\n",
       "      <td>0</td>\n",
       "      <td>0</td>\n",
       "      <td>0</td>\n",
       "      <td>0.177274</td>\n",
       "      <td>-0.028839</td>\n",
       "      <td>-0.359923</td>\n",
       "      <td>-0.146047</td>\n",
       "      <td>-0.215155</td>\n",
       "    </tr>\n",
       "  </tbody>\n",
       "</table>\n",
       "<p>5 rows × 25 columns</p>\n",
       "</div>"
      ],
      "text/plain": [
       "   age  education-num  sex  capital-gain  capital-loss  hours-per-week  \\\n",
       "0   43              7    1             0             0              60   \n",
       "1   18             10    0             0          1602              20   \n",
       "2   34             10    0             0             0              40   \n",
       "3   17              6    0             0             0              12   \n",
       "4   41             10    0             0             0              36   \n",
       "\n",
       "   from-US  marital-status_Divorced  marital-status_Married-AF-spouse  \\\n",
       "0        1                        0                                 0   \n",
       "1        1                        0                                 0   \n",
       "2        1                        0                                 0   \n",
       "3        1                        0                                 0   \n",
       "4        1                        1                                 0   \n",
       "\n",
       "   marital-status_Married-civ-spouse  ...  relationship_Not-in-family  \\\n",
       "0                                  1  ...                           0   \n",
       "1                                  0  ...                           0   \n",
       "2                                  0  ...                           1   \n",
       "3                                  0  ...                           0   \n",
       "4                                  0  ...                           1   \n",
       "\n",
       "   relationship_Other-relative  relationship_Own-child  \\\n",
       "0                            0                       0   \n",
       "1                            0                       1   \n",
       "2                            0                       0   \n",
       "3                            0                       0   \n",
       "4                            0                       0   \n",
       "\n",
       "   relationship_Unmarried  relationship_Wife    sc_age  sc_education-num  \\\n",
       "0                       0                  0  0.323996         -1.187429   \n",
       "1                       0                  0 -1.510030         -0.028839   \n",
       "2                       0                  0 -0.336253         -0.028839   \n",
       "3                       1                  0 -1.583391         -1.573625   \n",
       "4                       0                  0  0.177274         -0.028839   \n",
       "\n",
       "   sc_hours-per-week  sc_capital-gain  sc_capital-loss  \n",
       "0           1.572934        -0.146047        -0.215155  \n",
       "1          -1.648494        -0.146047         3.775441  \n",
       "2          -0.037780        -0.146047        -0.215155  \n",
       "3          -2.292780        -0.146047        -0.215155  \n",
       "4          -0.359923        -0.146047        -0.215155  \n",
       "\n",
       "[5 rows x 25 columns]"
      ]
     },
     "execution_count": 74,
     "metadata": {},
     "output_type": "execute_result"
    }
   ],
   "source": [
    "X_train.head()"
   ]
  },
  {
   "cell_type": "markdown",
   "metadata": {},
   "source": [
    "# KNN"
   ]
  },
  {
   "cell_type": "code",
   "execution_count": 25,
   "metadata": {},
   "outputs": [
    {
     "name": "stderr",
     "output_type": "stream",
     "text": [
      "100%|██████████| 25/25 [02:10<00:00,  5.23s/it]\n"
     ]
    }
   ],
   "source": [
    "neighbor_count = range(1,26)\n",
    "train_acc = []\n",
    "test_acc = []\n",
    "\n",
    "for nc in tqdm(neighbor_count):\n",
    "    knn = KNeighborsClassifier(n_neighbors=nc)\n",
    "    knn.fit(X_train, y_train)\n",
    "    train_acc.append(knn.score(X_train, y_train))\n",
    "    test_acc.append(knn.score(X_test, y_test))"
   ]
  },
  {
   "cell_type": "code",
   "execution_count": 26,
   "metadata": {},
   "outputs": [
    {
     "data": {
      "text/plain": [
       "<matplotlib.axes._subplots.AxesSubplot at 0x7fdaf45007d0>"
      ]
     },
     "execution_count": 26,
     "metadata": {},
     "output_type": "execute_result"
    },
    {
     "data": {
      "image/png": "[encoded data removed]",
      "text/plain": [
       "<Figure size 432x288 with 1 Axes>"
      ]
     },
     "metadata": {
      "needs_background": "light"
     },
     "output_type": "display_data"
    }
   ],
   "source": [
    "knn_results = pd.DataFrame({\n",
    "    'N_Neighbors' : list(neighbor_count),\n",
    "    'Train_Acc' : train_acc,\n",
    "    'Test_Acc' : test_acc\n",
    "})\n",
    "\n",
    "knn_results.plot(x='N_Neighbors', title='Model Accuracy With More Neighbors')"
   ]
  },
  {
   "cell_type": "code",
   "execution_count": 27,
   "metadata": {},
   "outputs": [
    {
     "name": "stdout",
     "output_type": "stream",
     "text": [
      "Tuned Logistic Regression Parameters: {'n_neighbors': 10}.\n",
      "Best score is 0.8494208494208494.\n"
     ]
    }
   ],
   "source": [
    "if exists('Models/knn_cv.pkl'):\n",
    "    knn_cv = load_model('knn_cv')\n",
    "else: \n",
    "    param_grid = {\n",
    "        'n_neighbors' : neighbor_count\n",
    "    }\n",
    "\n",
    "    knn = KNeighborsClassifier()\n",
    "    knn_cv = GridSearchCV(knn, param_grid, cv=5)\n",
    "    knn_cv.fit(X_train, y_train)\n",
    "    save_model(knn_cv,'knn_cv')\n",
    "    \n",
    "print(f\"Tuned Logistic Regression Parameters: {knn_cv.best_params_}.\")\n",
    "print(f\"Best score is {knn_cv.best_score_}.\")"
   ]
  },
  {
   "cell_type": "markdown",
   "metadata": {},
   "source": [
    "# Logistic Regression"
   ]
  },
  {
   "cell_type": "code",
   "execution_count": 28,
   "metadata": {},
   "outputs": [
    {
     "name": "stderr",
     "output_type": "stream",
     "text": [
      "  0%|          | 0/15 [00:00<?, ?it/s]/Users/andrewcoogan/opt/anaconda3/lib/python3.7/site-packages/sklearn/linear_model/logistic.py:947: ConvergenceWarning: lbfgs failed to converge. Increase the number of iterations.\n",
      "  \"of iterations.\", ConvergenceWarning)\n",
      "  7%|▋         | 1/15 [00:00<00:02,  6.15it/s]/Users/andrewcoogan/opt/anaconda3/lib/python3.7/site-packages/sklearn/linear_model/logistic.py:947: ConvergenceWarning: lbfgs failed to converge. Increase the number of iterations.\n",
      "  \"of iterations.\", ConvergenceWarning)\n",
      " 13%|█▎        | 2/15 [00:00<00:02,  6.41it/s]/Users/andrewcoogan/opt/anaconda3/lib/python3.7/site-packages/sklearn/linear_model/logistic.py:947: ConvergenceWarning: lbfgs failed to converge. Increase the number of iterations.\n",
      "  \"of iterations.\", ConvergenceWarning)\n",
      " 20%|██        | 3/15 [00:00<00:01,  6.58it/s]/Users/andrewcoogan/opt/anaconda3/lib/python3.7/site-packages/sklearn/linear_model/logistic.py:947: ConvergenceWarning: lbfgs failed to converge. Increase the number of iterations.\n",
      "  \"of iterations.\", ConvergenceWarning)\n",
      " 27%|██▋       | 4/15 [00:00<00:01,  6.67it/s]/Users/andrewcoogan/opt/anaconda3/lib/python3.7/site-packages/sklearn/linear_model/logistic.py:947: ConvergenceWarning: lbfgs failed to converge. Increase the number of iterations.\n",
      "  \"of iterations.\", ConvergenceWarning)\n",
      " 33%|███▎      | 5/15 [00:00<00:01,  6.74it/s]/Users/andrewcoogan/opt/anaconda3/lib/python3.7/site-packages/sklearn/linear_model/logistic.py:947: ConvergenceWarning: lbfgs failed to converge. Increase the number of iterations.\n",
      "  \"of iterations.\", ConvergenceWarning)\n",
      " 40%|████      | 6/15 [00:00<00:01,  6.79it/s]/Users/andrewcoogan/opt/anaconda3/lib/python3.7/site-packages/sklearn/linear_model/logistic.py:947: ConvergenceWarning: lbfgs failed to converge. Increase the number of iterations.\n",
      "  \"of iterations.\", ConvergenceWarning)\n",
      " 47%|████▋     | 7/15 [00:01<00:01,  6.58it/s]/Users/andrewcoogan/opt/anaconda3/lib/python3.7/site-packages/sklearn/linear_model/logistic.py:947: ConvergenceWarning: lbfgs failed to converge. Increase the number of iterations.\n",
      "  \"of iterations.\", ConvergenceWarning)\n",
      " 53%|█████▎    | 8/15 [00:01<00:01,  6.50it/s]/Users/andrewcoogan/opt/anaconda3/lib/python3.7/site-packages/sklearn/linear_model/logistic.py:947: ConvergenceWarning: lbfgs failed to converge. Increase the number of iterations.\n",
      "  \"of iterations.\", ConvergenceWarning)\n",
      " 60%|██████    | 9/15 [00:01<00:00,  6.47it/s]/Users/andrewcoogan/opt/anaconda3/lib/python3.7/site-packages/sklearn/linear_model/logistic.py:947: ConvergenceWarning: lbfgs failed to converge. Increase the number of iterations.\n",
      "  \"of iterations.\", ConvergenceWarning)\n",
      " 67%|██████▋   | 10/15 [00:01<00:00,  6.67it/s]/Users/andrewcoogan/opt/anaconda3/lib/python3.7/site-packages/sklearn/linear_model/logistic.py:947: ConvergenceWarning: lbfgs failed to converge. Increase the number of iterations.\n",
      "  \"of iterations.\", ConvergenceWarning)\n",
      " 73%|███████▎  | 11/15 [00:01<00:00,  6.77it/s]/Users/andrewcoogan/opt/anaconda3/lib/python3.7/site-packages/sklearn/linear_model/logistic.py:947: ConvergenceWarning: lbfgs failed to converge. Increase the number of iterations.\n",
      "  \"of iterations.\", ConvergenceWarning)\n",
      " 80%|████████  | 12/15 [00:01<00:00,  6.87it/s]/Users/andrewcoogan/opt/anaconda3/lib/python3.7/site-packages/sklearn/linear_model/logistic.py:947: ConvergenceWarning: lbfgs failed to converge. Increase the number of iterations.\n",
      "  \"of iterations.\", ConvergenceWarning)\n",
      " 87%|████████▋ | 13/15 [00:01<00:00,  6.92it/s]/Users/andrewcoogan/opt/anaconda3/lib/python3.7/site-packages/sklearn/linear_model/logistic.py:947: ConvergenceWarning: lbfgs failed to converge. Increase the number of iterations.\n",
      "  \"of iterations.\", ConvergenceWarning)\n",
      " 93%|█████████▎| 14/15 [00:02<00:00,  6.97it/s]/Users/andrewcoogan/opt/anaconda3/lib/python3.7/site-packages/sklearn/linear_model/logistic.py:947: ConvergenceWarning: lbfgs failed to converge. Increase the number of iterations.\n",
      "  \"of iterations.\", ConvergenceWarning)\n",
      "100%|██████████| 15/15 [00:02<00:00,  6.81it/s]\n"
     ]
    }
   ],
   "source": [
    "c_range = np.logspace(-5, 8, 15)\n",
    "train_acc = []\n",
    "test_acc = []\n",
    "\n",
    "for c in tqdm(c_range):\n",
    "    lr = LogisticRegression(C = c, solver='lbfgs')\n",
    "    lr.fit(X_train, y_train)\n",
    "    train_acc.append(lr.score(X_train, y_train))\n",
    "    test_acc.append(lr.score(X_test, y_test))"
   ]
  },
  {
   "cell_type": "code",
   "execution_count": 29,
   "metadata": {},
   "outputs": [
    {
     "data": {
      "text/plain": [
       "<matplotlib.axes._subplots.AxesSubplot at 0x7fdaf522ec90>"
      ]
     },
     "execution_count": 29,
     "metadata": {},
     "output_type": "execute_result"
    },
    {
     "data": {
      "image/png": "[encoded data removed]",
      "text/plain": [
       "<Figure size 432x288 with 1 Axes>"
      ]
     },
     "metadata": {
      "needs_background": "light"
     },
     "output_type": "display_data"
    }
   ],
   "source": [
    "lr_results = pd.DataFrame({\n",
    "    'Reg_Strength' : list(c_range),\n",
    "    'Train_Acc' : train_acc,\n",
    "    'Test_Acc' : test_acc\n",
    "})\n",
    "\n",
    "lr_results.plot(x='Reg_Strength', logx=True, title='Model Accuracy With Different Reg Strengths')"
   ]
  },
  {
   "cell_type": "code",
   "execution_count": 30,
   "metadata": {},
   "outputs": [
    {
     "name": "stdout",
     "output_type": "stream",
     "text": [
      "Tuned Logistic Regression Parameters: {'C': 1389495.494373136}.\n",
      "Best score is 0.8398999648999649.\n"
     ]
    }
   ],
   "source": [
    "if exists('Models/lr_cv.pkl'):\n",
    "    lr_cv = load_model('lr_cv')\n",
    "else:\n",
    "    param_grid = {\n",
    "        'C' : c_range\n",
    "    }\n",
    "\n",
    "    lr = LogisticRegression(solver='lbfgs')\n",
    "    lr_cv = GridSearchCV(lr, param_grid, cv=5)\n",
    "    lr_cv.fit(X_train, y_train)\n",
    "    save_model(lr_cv,'lr_cv')\n",
    "    \n",
    "print(f\"Tuned Logistic Regression Parameters: {lr_cv.best_params_}.\")\n",
    "print(f\"Best score is {lr_cv.best_score_}.\")"
   ]
  },
  {
   "cell_type": "markdown",
   "metadata": {},
   "source": [
    "# Quick Detour to Model Importance"
   ]
  },
  {
   "cell_type": "code",
   "execution_count": 65,
   "metadata": {},
   "outputs": [
    {
     "data": {
      "image/png": "[encoded data removed]",
      "text/plain": [
       "<Figure size 432x288 with 1 Axes>"
      ]
     },
     "metadata": {
      "needs_background": "light"
     },
     "output_type": "display_data"
    }
   ],
   "source": [
    "importance = lr_cv.best_estimator_.coef_[0]\n",
    "importance_index = list(range(len(importance)))\n",
    "sns.barplot(x=importance_index, y=importance).set(title='LR Model Importance')\n",
    "plt.show()"
   ]
  },
  {
   "cell_type": "code",
   "execution_count": 73,
   "metadata": {},
   "outputs": [
    {
     "data": {
      "image/png": "[encoded data removed]",
      "text/plain": [
       "<Figure size 432x288 with 1 Axes>"
      ]
     },
     "metadata": {
      "needs_background": "light"
     },
     "output_type": "display_data"
    }
   ],
   "source": [
    "# Lets look at anything that has a coefficient of > 0.2\n",
    "importance_mask = np.abs(importance) > 0.2\n",
    "v_importance = importance[importance_mask]\n",
    "v_importance_names = X_train.columns[importance_mask]\n",
    "sns.barplot(x=v_importance_names, y=v_importance)\n",
    "plt.xticks(rotation=70)\n",
    "plt.show()"
   ]
  },
  {
   "cell_type": "markdown",
   "metadata": {},
   "source": [
    "Lets see what we can get out of this:\n",
    "\n",
    "Benefit:\n",
    "- Married with spouse\n",
    "- Being a husband\n",
    "- Being older\n",
    "- More years of education\n",
    "- More hours per week\n",
    "\n",
    "Detractor:\n",
    "- Never being married\n",
    "- Not in a family\n",
    "- Having a child\n",
    "\n",
    "I find it very interesting that being a husband is important, but being male is not."
   ]
  },
  {
   "cell_type": "code",
   "execution_count": 77,
   "metadata": {},
   "outputs": [
    {
     "data": {
      "text/plain": [
       "array([0.16863289])"
      ]
     },
     "execution_count": 77,
     "metadata": {},
     "output_type": "execute_result"
    }
   ],
   "source": [
    "importance[X_train.columns == 'sex']\n",
    "# Ah, so it is in there, and preferences males, but it was just a tad below the threshold I had decided above."
   ]
  },
  {
   "cell_type": "code",
   "execution_count": 94,
   "metadata": {},
   "outputs": [
    {
     "data": {
      "text/plain": [
       "array([0.99697107, 0.99999347, 0.99999699, 0.99999983, 0.99999997,\n",
       "       0.99999998, 0.99999999, 0.99999999, 0.99999999, 0.99999999,\n",
       "       1.        , 1.        , 1.        , 1.        , 1.        ,\n",
       "       1.        , 1.        , 1.        , 1.        , 1.        ,\n",
       "       1.        , 1.        , 1.        , 1.        , 1.        ])"
      ]
     },
     "execution_count": 94,
     "metadata": {},
     "output_type": "execute_result"
    }
   ],
   "source": [
    "pca = PCA()\n",
    "pc = pca.fit_transform(X_train)\n",
    "pca.explained_variance_ratio_.cumsum()\n",
    "# Wow, so 99.6% of the variance can be explained by one variable?  Thats crazy."
   ]
  },
  {
   "cell_type": "markdown",
   "metadata": {},
   "source": [
    "# Decision Tree"
   ]
  },
  {
   "cell_type": "code",
   "execution_count": 31,
   "metadata": {},
   "outputs": [
    {
     "name": "stdout",
     "output_type": "stream",
     "text": [
      "Best decision tree random grid search parameters: {'min_samples_split': 7, 'min_samples_leaf': 3, 'max_depth': 8, 'criterion': 'entropy'}.\n",
      "Best score is 0.85499297999298.\n",
      "This took 2.647936628999986 seconds.\n"
     ]
    }
   ],
   "source": [
    "param_grid = {\n",
    "    'criterion' : ['gini', 'entropy'],\n",
    "    'max_depth' : range(1,10),\n",
    "    'min_samples_split' : range(2,11),\n",
    "    'min_samples_leaf' : range(1,5)\n",
    "}\n",
    "\n",
    "dc = DecisionTreeClassifier()\n",
    "dc_cv = RandomizedSearchCV(dc, param_grid, cv=5, n_iter=20, scoring='accuracy')\n",
    "\n",
    "start = timer()\n",
    "dc_cv.fit(X_train, y_train)\n",
    "end = timer()\n",
    "\n",
    "print(f\"Best decision tree random grid search parameters: {dc_cv.best_params_}.\")\n",
    "print(f\"Best score is {dc_cv.best_score_}.\")\n",
    "print(f\"This took {end-start} seconds.\")"
   ]
  },
  {
   "cell_type": "code",
   "execution_count": 32,
   "metadata": {},
   "outputs": [
    {
     "name": "stdout",
     "output_type": "stream",
     "text": [
      "Best decision tree grid search parameters: {'criterion': 'gini', 'max_depth': 8, 'min_samples_leaf': 2, 'min_samples_split': 10}.\n",
      "Best score is 0.8554756054756055.\n"
     ]
    }
   ],
   "source": [
    "# This was actually really fast.  \n",
    "# For giggles, lets see how long it takes to do the whole grid and see what the gain is\n",
    "\n",
    "if exists('Models/dc_cv.pkl'):\n",
    "    dc_cv = load_model('dc_cv')\n",
    "else:\n",
    "    dc_cv = GridSearchCV(dc, param_grid, cv=5)\n",
    "\n",
    "    start = timer()\n",
    "    dc_cv.fit(X_train, y_train)\n",
    "    end = timer()\n",
    "    print(f\"This took {end-start} seconds.\")\n",
    "    save_model(dc_cv,'dc_cv')\n",
    "\n",
    "print(f\"Best decision tree grid search parameters: {dc_cv.best_params_}.\")\n",
    "print(f\"Best score is {dc_cv.best_score_}.\")"
   ]
  },
  {
   "cell_type": "markdown",
   "metadata": {},
   "source": [
    "# Neural Networks #1"
   ]
  },
  {
   "cell_type": "code",
   "execution_count": 33,
   "metadata": {},
   "outputs": [
    {
     "name": "stderr",
     "output_type": "stream",
     "text": [
      "/Users/andrewcoogan/opt/anaconda3/lib/python3.7/site-packages/sklearn/neural_network/multilayer_perceptron.py:566: ConvergenceWarning: Stochastic Optimizer: Maximum iterations (200) reached and the optimization hasn't converged yet.\n",
      "  % self.max_iter, ConvergenceWarning)\n"
     ]
    },
    {
     "data": {
      "text/plain": [
       "0.8272085167366158"
      ]
     },
     "execution_count": 33,
     "metadata": {},
     "output_type": "execute_result"
    }
   ],
   "source": [
    "# Lets do one quick one to make sure everything is working as planned with default parameters.\n",
    "nn = MLPClassifier(learning_rate='adaptive', solver='adam', alpha=0.1) \n",
    "nn.fit(X_train, y_train)\n",
    "nn.score(X_test, y_test)"
   ]
  },
  {
   "cell_type": "code",
   "execution_count": 34,
   "metadata": {},
   "outputs": [
    {
     "name": "stdout",
     "output_type": "stream",
     "text": [
      "Best sklearn neural network grid search parameters: {'solver': 'adam', 'hidden_layer_sizes': (50, 50, 50), 'alpha': 0.1, 'activation': 'relu'}.\n",
      "Best score is 0.8386714636714637.\n"
     ]
    }
   ],
   "source": [
    "if exists('Models/nn_cv.pkl'):\n",
    "    nn_cv = load_model('nn_cv')\n",
    "else:\n",
    "    nn = MLPClassifier(learning_rate='adaptive', max_iter=300)\n",
    "    param_grid = {\n",
    "        'hidden_layer_sizes': [(50,50,50), (50,100,50), (100,)],\n",
    "        'activation': ['tanh', 'relu'],\n",
    "        'solver': ['sgd', 'adam'],\n",
    "        'alpha': [0.01, 0.1],\n",
    "    }\n",
    "\n",
    "    nn_cv = RandomizedSearchCV(nn, param_grid, cv=5, scoring='accuracy', n_iter=10)\n",
    "\n",
    "    start = timer()\n",
    "    nn_cv.fit(X_train, y_train)\n",
    "    end = timer()\n",
    "    print(f\"This took {end-start} seconds.\")\n",
    "    save_model(nn_cv, 'nn_cv')\n",
    "\n",
    "print(f\"Best sklearn neural network grid search parameters: {nn_cv.best_params_}.\")\n",
    "print(f\"Best score is {nn_cv.best_score_}.\")\n",
    "\n",
    "#{'solver': 'adam', 'learning_rate': 'adaptive', 'hidden_layer_sizes': (100,), 'alpha': 0.01, 'activation': 'tanh'}\n",
    "#Best score is 0.8513513513513513.\n",
    "#This took 1847.9064502009999 seconds."
   ]
  },
  {
   "cell_type": "markdown",
   "metadata": {},
   "source": [
    "# Lets do some more voting"
   ]
  },
  {
   "cell_type": "code",
   "execution_count": 35,
   "metadata": {},
   "outputs": [
    {
     "name": "stderr",
     "output_type": "stream",
     "text": [
      "/Users/andrewcoogan/opt/anaconda3/lib/python3.7/site-packages/sklearn/linear_model/logistic.py:947: ConvergenceWarning: lbfgs failed to converge. Increase the number of iterations.\n",
      "  \"of iterations.\", ConvergenceWarning)\n"
     ]
    },
    {
     "name": "stdout",
     "output_type": "stream",
     "text": [
      "Voting using: knn, lr yielded an accuracy of 0.8610912068789026\n",
      "Voting using: knn, dc yielded an accuracy of 0.8610912068789026\n",
      "Voting using: knn, nn yielded an accuracy of 0.8620124884839799\n",
      "Voting using: lr, dc yielded an accuracy of 0.8543351417750026\n"
     ]
    },
    {
     "name": "stderr",
     "output_type": "stream",
     "text": [
      "/Users/andrewcoogan/opt/anaconda3/lib/python3.7/site-packages/sklearn/linear_model/logistic.py:947: ConvergenceWarning: lbfgs failed to converge. Increase the number of iterations.\n",
      "  \"of iterations.\", ConvergenceWarning)\n",
      "/Users/andrewcoogan/opt/anaconda3/lib/python3.7/site-packages/sklearn/linear_model/logistic.py:947: ConvergenceWarning: lbfgs failed to converge. Increase the number of iterations.\n",
      "  \"of iterations.\", ConvergenceWarning)\n"
     ]
    },
    {
     "name": "stdout",
     "output_type": "stream",
     "text": [
      "Voting using: lr, nn yielded an accuracy of 0.8476814412938888\n",
      "Voting using: dc, nn yielded an accuracy of 0.8579179035725253\n"
     ]
    },
    {
     "name": "stderr",
     "output_type": "stream",
     "text": [
      "/Users/andrewcoogan/opt/anaconda3/lib/python3.7/site-packages/sklearn/linear_model/logistic.py:947: ConvergenceWarning: lbfgs failed to converge. Increase the number of iterations.\n",
      "  \"of iterations.\", ConvergenceWarning)\n"
     ]
    },
    {
     "name": "stdout",
     "output_type": "stream",
     "text": [
      "Voting using: knn, lr, dc yielded an accuracy of 0.8619101238611936\n"
     ]
    },
    {
     "name": "stderr",
     "output_type": "stream",
     "text": [
      "/Users/andrewcoogan/opt/anaconda3/lib/python3.7/site-packages/sklearn/linear_model/logistic.py:947: ConvergenceWarning: lbfgs failed to converge. Increase the number of iterations.\n",
      "  \"of iterations.\", ConvergenceWarning)\n"
     ]
    },
    {
     "name": "stdout",
     "output_type": "stream",
     "text": [
      "Voting using: knn, lr, nn yielded an accuracy of 0.8601699252738254\n",
      "Voting using: knn, dc, nn yielded an accuracy of 0.8643668748080663\n"
     ]
    },
    {
     "name": "stderr",
     "output_type": "stream",
     "text": [
      "/Users/andrewcoogan/opt/anaconda3/lib/python3.7/site-packages/sklearn/linear_model/logistic.py:947: ConvergenceWarning: lbfgs failed to converge. Increase the number of iterations.\n",
      "  \"of iterations.\", ConvergenceWarning)\n"
     ]
    },
    {
     "name": "stdout",
     "output_type": "stream",
     "text": [
      "Voting using: lr, dc, nn yielded an accuracy of 0.8572013512130208\n"
     ]
    },
    {
     "name": "stderr",
     "output_type": "stream",
     "text": [
      "/Users/andrewcoogan/opt/anaconda3/lib/python3.7/site-packages/sklearn/linear_model/logistic.py:947: ConvergenceWarning: lbfgs failed to converge. Increase the number of iterations.\n",
      "  \"of iterations.\", ConvergenceWarning)\n"
     ]
    },
    {
     "name": "stdout",
     "output_type": "stream",
     "text": [
      "Voting using: knn, lr, dc, nn yielded an accuracy of 0.8624219469751254\n"
     ]
    }
   ],
   "source": [
    "models = [\n",
    "    ('knn', knn_cv.best_estimator_),\n",
    "    ('lr', lr_cv.best_estimator_),\n",
    "    ('dc', dc_cv.best_estimator_),\n",
    "    ('nn', nn_cv.best_estimator_)\n",
    "]\n",
    "\n",
    "for i in range(2,len(models)+1):\n",
    "    for m in itertools.combinations(models, i):\n",
    "        models_being_looked_at = ', '.join([j[0] for j in m])\n",
    "        vc = VotingClassifier(m, voting='soft')\n",
    "        vc.fit(X_train, y_train)\n",
    "        print(f'Voting using: {models_being_looked_at} yielded an accuracy of {vc.score(X_test, y_test)}')"
   ]
  },
  {
   "cell_type": "code",
   "execution_count": 41,
   "metadata": {},
   "outputs": [],
   "source": [
    "# The best model came from using knn, dc, nn, so lets make a model with that.\n",
    "best_models = [\n",
    "    ('knn', knn_cv.best_estimator_),\n",
    "    ('dc', dc_cv.best_estimator_),\n",
    "    ('nn', nn_cv.best_estimator_)\n",
    "]\n",
    "\n",
    "if exists('Models/best_vc.pkl'):\n",
    "    best_vc = load_model('best_vc')\n",
    "else:\n",
    "    best_vc = VotingClassifier(best_models, voting='soft').fit(X_train, y_train)\n",
    "    save_model(best_vc, 'best_vc')"
   ]
  },
  {
   "cell_type": "markdown",
   "metadata": {},
   "source": [
    "# What about Stacking?\n",
    "\n",
    "https://www.geeksforgeeks.org/stacking-in-machine-learning-2/\n",
    "\n",
    "Stacking is a way of ensembling classification or regression models it consists of two-layer estimators. The first layer consists of all the baseline models that are used to predict the outputs on the test datasets. The second layer consists of Meta-Classifier or Regressor which takes all the predictions of baseline models as an input and generate new predictions."
   ]
  },
  {
   "cell_type": "code",
   "execution_count": 37,
   "metadata": {},
   "outputs": [
    {
     "name": "stdout",
     "output_type": "stream",
     "text": [
      "Stacking yielded an accuracy of 0.8613983007472618\n"
     ]
    }
   ],
   "source": [
    "if 'vc' not in [i[0] for i in models]:\n",
    "    models.append(('vc', best_vc))\n",
    "\n",
    "if exists('Models/lr_stack.pkl'):\n",
    "    lr_stack = load_model('lr_stack')\n",
    "else:\n",
    "    lr_stack = StackingClassifier(classifiers=[c[1] for c in models], \n",
    "                                   meta_classifier=LogisticRegression(max_iter=250, solver='lbfgs'), \n",
    "                                   use_probas=True, \n",
    "                                   use_features_in_secondary=True)\n",
    "    lr_stack.fit(X_train, y_train)\n",
    "    save_model(lr_stack, 'lr_stack')\n",
    "    \n",
    "if 'stack' not in [i[0] for i in models]:\n",
    "    models.append(('stack', lr_stack))\n",
    "\n",
    "print(f'Stacking yielded an accuracy of {lr_stack.score(X_test, y_test)}')"
   ]
  },
  {
   "cell_type": "code",
   "execution_count": 38,
   "metadata": {},
   "outputs": [
    {
     "name": "stdout",
     "output_type": "stream",
     "text": [
      "Model knn has an RMSE of 0.384 and an accuracy of 85.280%.\n",
      "Model lr has an RMSE of 0.397 and an accuracy of 84.246%.\n",
      "Model dc has an RMSE of 0.380 and an accuracy of 85.556%.\n",
      "Model nn has an RMSE of 0.400 and an accuracy of 83.990%.\n",
      "Model vc has an RMSE of 0.367 and an accuracy of 86.529%.\n",
      "Model stack has an RMSE of 0.372 and an accuracy of 86.140%.\n"
     ]
    }
   ],
   "source": [
    "for m in models:\n",
    "    y_pred = m[1].predict(X_test)\n",
    "    rmse = np.sqrt(mean_squared_error(y_test, y_pred))\n",
    "    print(f'Model {m[0]} has an RMSE of {rmse:.3f} and an accuracy of {accuracy_score(y_test, y_pred)*100:.3f}%.')"
   ]
  },
  {
   "cell_type": "markdown",
   "metadata": {},
   "source": [
    "# XG Boost\n",
    "\n",
    "Gradient boosting re-defines boosting as a numerical optimization problem where the objective is to minimize the loss function of the model by adding weak learners using gradient descent. "
   ]
  },
  {
   "cell_type": "code",
   "execution_count": 39,
   "metadata": {},
   "outputs": [
    {
     "data": {
      "text/plain": [
       "0.8677449073600164"
      ]
     },
     "execution_count": 39,
     "metadata": {},
     "output_type": "execute_result"
    }
   ],
   "source": [
    "xgb_classifier = xgb.XGBClassifier(objective='reg:logistic', max_depth=5, seed=42)\n",
    "xgb_classifier.fit(X_train, y_train)\n",
    "xgb_classifier.score(X_test, y_test)"
   ]
  },
  {
   "cell_type": "code",
   "execution_count": 40,
   "metadata": {},
   "outputs": [
    {
     "name": "stdout",
     "output_type": "stream",
     "text": [
      "Best XG Boost grid search parameters: {'learning_rate': 0.1, 'max_depth': 4, 'n_estimators': 300}.\n",
      "Best score is 0.8650403650403651.\n",
      "Model has an RMSE of 0.36324647110691183.\n"
     ]
    }
   ],
   "source": [
    "param_grid = {\n",
    "    'max_depth' : [3, 4, 5],\n",
    "    'learning_rate' : [0.01, 0.05, 0.1],\n",
    "    'n_estimators' : [100, 200, 300]\n",
    "}\n",
    "\n",
    "if exists('Models/xgb_cv.pkl'):\n",
    "    xgb_cv = load_model('xgb_cv')\n",
    "else:\n",
    "    estimator = xgb.XGBClassifier(objective='reg:logistic')\n",
    "\n",
    "    xgb_cv = GridSearchCV(\n",
    "        estimator=estimator,\n",
    "        param_grid=param_grid,\n",
    "        cv=5,\n",
    "        verbose=True\n",
    "    )\n",
    "\n",
    "    xgb_cv.fit(X_train, y_train)\n",
    "    save_model(xgb_cv, 'xgb_cv')\n",
    "    \n",
    "if 'xgb' not in [i[0] for i in models]:\n",
    "    models.append(('xgb', xgb_cv.best_estimator_))\n",
    "\n",
    "print(f\"Best XG Boost grid search parameters: {xgb_cv.best_params_}.\")\n",
    "print(f\"Best score is {xgb_cv.best_score_}.\")\n",
    "print(f'Model has an RMSE of {np.sqrt(mean_squared_error(xgb_cv.best_estimator_.predict(X_test), y_test))}.')"
   ]
  },
  {
   "cell_type": "code",
   "execution_count": 42,
   "metadata": {},
   "outputs": [],
   "source": [
    "# Can we do some feature importance here?\n",
    "# https://scikit-learn.org/stable/auto_examples/ensemble/plot_forest_importances.html "
   ]
  },
  {
   "cell_type": "markdown",
   "metadata": {},
   "source": [
    "Things to do:\n",
    "\n",
    "Keras"
   ]
  },
  {
   "cell_type": "markdown",
   "metadata": {},
   "source": [
    "pca and scaling: https://towardsdatascience.com/pca-using-python-scikit-learn-e653f8989e60\n",
    "feature importance: https://scikit-learn.org/stable/auto_examples/ensemble/plot_forest_importances.html\n",
    "pipeline: https://github.com/datacamp/course-resources-ml-with-experts-budgets/blob/master/notebooks/1.0-full-model.ipynb\n",
    "kaggle: https://www.kaggle.com/overload10/income-prediction-on-uci-adult-dataset\n",
    "\n",
    "    "
   ]
  },
  {
   "cell_type": "code",
   "execution_count": null,
   "metadata": {},
   "outputs": [],
   "source": []
  }
 ],
 "metadata": {
  "kernelspec": {
   "display_name": "Python 3",
   "language": "python",
   "name": "python3"
  },
  "language_info": {
   "codemirror_mode": {
    "name": "ipython",
    "version": 3
   },
   "file_extension": ".py",
   "mimetype": "text/x-python",
   "name": "python",
   "nbconvert_exporter": "python",
   "pygments_lexer": "ipython3",
   "version": "3.7.4"
  }
 },
 "nbformat": 4,
 "nbformat_minor": 2
}

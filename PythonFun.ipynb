{
 "cells": [
  {
   "cell_type": "code",
   "execution_count": 3,
   "metadata": {
    "collapsed": true
   },
   "outputs": [],
   "source": [
    "import numpy as np\n",
    "import math\n",
    "import pandas as pd\n",
    "import matplotlib.pyplot as plt\n",
    "from pandas_datareader import data"
   ]
  },
  {
   "cell_type": "code",
   "execution_count": 4,
   "metadata": {
    "collapsed": true
   },
   "outputs": [],
   "source": [
    "# Lets download some US large cap tech data, about ten years worth\n",
    "apple = data.DataReader('AAPL', 'yahoo',start='1/1/2007')\n",
    "amazon = data.DataReader('AMZN', 'yahoo',start='1/1/2007')\n",
    "google = data.DataReader('GOOG', 'yahoo',start='1/1/2007')"
   ]
  },
  {
   "cell_type": "code",
   "execution_count": 5,
   "metadata": {},
   "outputs": [
    {
     "data": {
      "text/html": [
       "<div>\n",
       "<style>\n",
       "    .dataframe thead tr:only-child th {\n",
       "        text-align: right;\n",
       "    }\n",
       "\n",
       "    .dataframe thead th {\n",
       "        text-align: left;\n",
       "    }\n",
       "\n",
       "    .dataframe tbody tr th {\n",
       "        vertical-align: top;\n",
       "    }\n",
       "</style>\n",
       "<table border=\"1\" class=\"dataframe\">\n",
       "  <thead>\n",
       "    <tr style=\"text-align: right;\">\n",
       "      <th></th>\n",
       "      <th>Open</th>\n",
       "      <th>High</th>\n",
       "      <th>Low</th>\n",
       "      <th>Close</th>\n",
       "      <th>Adj Close</th>\n",
       "      <th>Volume</th>\n",
       "    </tr>\n",
       "    <tr>\n",
       "      <th>Date</th>\n",
       "      <th></th>\n",
       "      <th></th>\n",
       "      <th></th>\n",
       "      <th></th>\n",
       "      <th></th>\n",
       "      <th></th>\n",
       "    </tr>\n",
       "  </thead>\n",
       "  <tbody>\n",
       "    <tr>\n",
       "      <th>2007-01-03</th>\n",
       "      <td>232.129913</td>\n",
       "      <td>237.440018</td>\n",
       "      <td>229.694046</td>\n",
       "      <td>232.921951</td>\n",
       "      <td>232.921951</td>\n",
       "      <td>15470700</td>\n",
       "    </tr>\n",
       "    <tr>\n",
       "      <th>2007-01-04</th>\n",
       "      <td>233.624313</td>\n",
       "      <td>241.071411</td>\n",
       "      <td>233.300537</td>\n",
       "      <td>240.727692</td>\n",
       "      <td>240.727692</td>\n",
       "      <td>15834200</td>\n",
       "    </tr>\n",
       "    <tr>\n",
       "      <th>2007-01-05</th>\n",
       "      <td>240.349106</td>\n",
       "      <td>242.839783</td>\n",
       "      <td>238.162308</td>\n",
       "      <td>242.685349</td>\n",
       "      <td>242.685349</td>\n",
       "      <td>13795600</td>\n",
       "    </tr>\n",
       "    <tr>\n",
       "      <th>2007-01-08</th>\n",
       "      <td>242.934418</td>\n",
       "      <td>244.020355</td>\n",
       "      <td>240.199677</td>\n",
       "      <td>240.887100</td>\n",
       "      <td>240.887100</td>\n",
       "      <td>9544400</td>\n",
       "    </tr>\n",
       "    <tr>\n",
       "      <th>2007-01-09</th>\n",
       "      <td>241.818604</td>\n",
       "      <td>243.213379</td>\n",
       "      <td>239.701538</td>\n",
       "      <td>241.843506</td>\n",
       "      <td>241.843506</td>\n",
       "      <td>10803000</td>\n",
       "    </tr>\n",
       "  </tbody>\n",
       "</table>\n",
       "</div>"
      ],
      "text/plain": [
       "                  Open        High         Low       Close   Adj Close  \\\n",
       "Date                                                                     \n",
       "2007-01-03  232.129913  237.440018  229.694046  232.921951  232.921951   \n",
       "2007-01-04  233.624313  241.071411  233.300537  240.727692  240.727692   \n",
       "2007-01-05  240.349106  242.839783  238.162308  242.685349  242.685349   \n",
       "2007-01-08  242.934418  244.020355  240.199677  240.887100  240.887100   \n",
       "2007-01-09  241.818604  243.213379  239.701538  241.843506  241.843506   \n",
       "\n",
       "              Volume  \n",
       "Date                  \n",
       "2007-01-03  15470700  \n",
       "2007-01-04  15834200  \n",
       "2007-01-05  13795600  \n",
       "2007-01-08   9544400  \n",
       "2007-01-09  10803000  "
      ]
     },
     "execution_count": 5,
     "metadata": {},
     "output_type": "execute_result"
    }
   ],
   "source": [
    "google.head()"
   ]
  },
  {
   "cell_type": "code",
   "execution_count": 6,
   "metadata": {
    "collapsed": true
   },
   "outputs": [],
   "source": [
    "# We can see that the data has open, high, low, close, adjusted close, and volume\n",
    "# For most of our purposes we are going to look at adjusted close"
   ]
  },
  {
   "cell_type": "code",
   "execution_count": 7,
   "metadata": {
    "scrolled": true
   },
   "outputs": [
    {
     "data": {
      "image/png": "[encoded data removed]",
      "text/plain": [
       "<matplotlib.figure.Figure at 0xb5dd780>"
      ]
     },
     "metadata": {},
     "output_type": "display_data"
    }
   ],
   "source": [
    "f, (ax1, ax2, ax3) = plt.subplots(3, sharex=False, sharey=False)\n",
    "ax1.set_title('Apple Adj Close Prices')\n",
    "ax2.set_title('Amazon Adj Close Prices')\n",
    "ax3.set_title('Google Adj Close Prices')\n",
    "ax1.plot(apple['Adj Close'], '-b')\n",
    "ax2.plot(amazon['Adj Close'], '-r')\n",
    "ax3.plot(google['Adj Close'], '-g')\n",
    "f.subplots_adjust(hspace=1)\n",
    "plt.show()"
   ]
  },
  {
   "cell_type": "code",
   "execution_count": 8,
   "metadata": {
    "collapsed": true
   },
   "outputs": [],
   "source": [
    "# As we can see from the above, all securities have done well over the past decade.\n",
    "# You can clearly see a google and apple dive in late 2008 closely following the rest of the markets"
   ]
  },
  {
   "cell_type": "code",
   "execution_count": 9,
   "metadata": {
    "collapsed": true
   },
   "outputs": [],
   "source": [
    "apple['Pct Returns'] = apple['Adj Close'].pct_change()\n",
    "amazon['Pct Returns'] = amazon['Adj Close'].pct_change()\n",
    "google['Pct Returns'] = google['Adj Close'].pct_change()"
   ]
  },
  {
   "cell_type": "code",
   "execution_count": 10,
   "metadata": {},
   "outputs": [
    {
     "data": {
      "image/png": "[encoded data removed]",
      "text/plain": [
       "<matplotlib.figure.Figure at 0xbb1a438>"
      ]
     },
     "metadata": {},
     "output_type": "display_data"
    }
   ],
   "source": [
    "plt.plot(apple['Pct Returns'], '-b', label = \"Apple\")\n",
    "plt.plot(amazon['Pct Returns'], '-r', label = \"Amazon\")\n",
    "plt.plot(google['Pct Returns'], '-g', label = \"Google\")\n",
    "plt.ylabel('Percent Returns')\n",
    "plt.title('Daily Returns')\n",
    "plt.legend(loc = 'upper right')\n",
    "plt.show()"
   ]
  },
  {
   "cell_type": "code",
   "execution_count": 11,
   "metadata": {
    "collapsed": true
   },
   "outputs": [],
   "source": [
    "# Fist of all, lets take a look at the volatility throughout their existance"
   ]
  },
  {
   "cell_type": "code",
   "execution_count": 12,
   "metadata": {},
   "outputs": [
    {
     "name": "stdout",
     "output_type": "stream",
     "text": [
      "Apple - 0.32237, Amazon - 0.40444, Google - 0.29308\n"
     ]
    }
   ],
   "source": [
    "appleVol = apple['Pct Returns'].std()*np.sqrt(252) # 252 due to there being approximately 252 trading days per year\n",
    "amazonVol = amazon['Pct Returns'].std()*np.sqrt(252)\n",
    "googleVol = google['Pct Returns'].std()*np.sqrt(252)\n",
    "\n",
    "print \"Apple - %.5f, Amazon - %.5f, Google - %.5f\" % (appleVol, amazonVol, googleVol)"
   ]
  },
  {
   "cell_type": "code",
   "execution_count": 13,
   "metadata": {
    "collapsed": true
   },
   "outputs": [],
   "source": [
    "#  What does this mean?  Lets take a look at a high volitile and a low volitile stock to put it in perspective\n",
    "pacw = data.DataReader('PACW', 'yahoo',start='1/1/2007')  # High Vol\n",
    "spy = data.DataReader('SPY', 'yahoo',start='1/1/2007')  # Low Vol, also the S&P 500 ETF"
   ]
  },
  {
   "cell_type": "code",
   "execution_count": 14,
   "metadata": {},
   "outputs": [
    {
     "name": "stdout",
     "output_type": "stream",
     "text": [
      "PACW (High) - 0.47394, SPY (Benchmark, Low Vol) - 0.20314\n"
     ]
    }
   ],
   "source": [
    "pacwVol = pacw['Adj Close'].pct_change().std()*np.sqrt(252)\n",
    "spyVol = spy['Adj Close'].pct_change().std()*np.sqrt(252)\n",
    "print \"PACW (High) - %.5f, SPY (Benchmark, Low Vol) - %.5f\" % (pacwVol, spyVol)"
   ]
  },
  {
   "cell_type": "code",
   "execution_count": 15,
   "metadata": {
    "collapsed": true
   },
   "outputs": [],
   "source": [
    "# Now that we know how risky these names are, lets see how much we would make if we can go back in time and invest in them\n",
    "# I am going to look at dollar values because the above is abstract and dollars are easy for me to think about\n",
    "# I am also a little weary of doing the same operation over and over, lets make one big dataframe"
   ]
  },
  {
   "cell_type": "code",
   "execution_count": 16,
   "metadata": {},
   "outputs": [
    {
     "data": {
      "text/html": [
       "<div>\n",
       "<style>\n",
       "    .dataframe thead tr:only-child th {\n",
       "        text-align: right;\n",
       "    }\n",
       "\n",
       "    .dataframe thead th {\n",
       "        text-align: left;\n",
       "    }\n",
       "\n",
       "    .dataframe tbody tr th {\n",
       "        vertical-align: top;\n",
       "    }\n",
       "</style>\n",
       "<table border=\"1\" class=\"dataframe\">\n",
       "  <thead>\n",
       "    <tr style=\"text-align: right;\">\n",
       "      <th></th>\n",
       "      <th>AAPL</th>\n",
       "      <th>AMZN</th>\n",
       "      <th>GOOG</th>\n",
       "      <th>PACW</th>\n",
       "      <th>SPY</th>\n",
       "    </tr>\n",
       "    <tr>\n",
       "      <th>Date</th>\n",
       "      <th></th>\n",
       "      <th></th>\n",
       "      <th></th>\n",
       "      <th></th>\n",
       "      <th></th>\n",
       "    </tr>\n",
       "  </thead>\n",
       "  <tbody>\n",
       "    <tr>\n",
       "      <th>2007-01-03</th>\n",
       "      <td>10.812462</td>\n",
       "      <td>38.700001</td>\n",
       "      <td>232.921951</td>\n",
       "      <td>37.962383</td>\n",
       "      <td>113.757355</td>\n",
       "    </tr>\n",
       "    <tr>\n",
       "      <th>2007-01-04</th>\n",
       "      <td>11.052453</td>\n",
       "      <td>38.900002</td>\n",
       "      <td>240.727692</td>\n",
       "      <td>37.911625</td>\n",
       "      <td>113.998749</td>\n",
       "    </tr>\n",
       "    <tr>\n",
       "      <th>2007-01-05</th>\n",
       "      <td>10.973743</td>\n",
       "      <td>38.369999</td>\n",
       "      <td>242.685349</td>\n",
       "      <td>36.962021</td>\n",
       "      <td>113.089493</td>\n",
       "    </tr>\n",
       "    <tr>\n",
       "      <th>2007-01-08</th>\n",
       "      <td>11.027935</td>\n",
       "      <td>37.500000</td>\n",
       "      <td>240.887100</td>\n",
       "      <td>36.933037</td>\n",
       "      <td>113.612480</td>\n",
       "    </tr>\n",
       "    <tr>\n",
       "      <th>2007-01-09</th>\n",
       "      <td>11.944029</td>\n",
       "      <td>37.779999</td>\n",
       "      <td>241.843506</td>\n",
       "      <td>36.904030</td>\n",
       "      <td>113.515953</td>\n",
       "    </tr>\n",
       "  </tbody>\n",
       "</table>\n",
       "</div>"
      ],
      "text/plain": [
       "                 AAPL       AMZN        GOOG       PACW         SPY\n",
       "Date                                                               \n",
       "2007-01-03  10.812462  38.700001  232.921951  37.962383  113.757355\n",
       "2007-01-04  11.052453  38.900002  240.727692  37.911625  113.998749\n",
       "2007-01-05  10.973743  38.369999  242.685349  36.962021  113.089493\n",
       "2007-01-08  11.027935  37.500000  240.887100  36.933037  113.612480\n",
       "2007-01-09  11.944029  37.779999  241.843506  36.904030  113.515953"
      ]
     },
     "execution_count": 16,
     "metadata": {},
     "output_type": "execute_result"
    }
   ],
   "source": [
    "returnsDF = pd.DataFrame({\n",
    "    'AAPL' : pd.Series(apple['Adj Close']),\n",
    "    'AMZN' : pd.Series(amazon['Adj Close']),\n",
    "    'GOOG' : pd.Series(google['Adj Close']),\n",
    "    'PACW' : pd.Series(pacw['Adj Close']),\n",
    "    'SPY' : pd.Series(spy['Adj Close'])\n",
    "})\n",
    "\n",
    "returnsDF.head()"
   ]
  },
  {
   "cell_type": "code",
   "execution_count": 17,
   "metadata": {
    "collapsed": true
   },
   "outputs": [],
   "source": [
    "def dollar_return(prices, iv):\n",
    "    return iv * ((prices[-1] / prices[0]) - 1)"
   ]
  },
  {
   "cell_type": "code",
   "execution_count": 18,
   "metadata": {},
   "outputs": [
    {
     "name": "stdout",
     "output_type": "stream",
     "text": [
      "AAPL    13687.681492\n",
      "AMZN    24640.051534\n",
      "GOOG     2990.006013\n",
      "PACW      260.985091\n",
      "SPY      1178.672280\n",
      "dtype: float64\n"
     ]
    }
   ],
   "source": [
    "initInvestment = 1000\n",
    "returns = returnsDF.apply(dollar_return, args = (initInvestment, ), axis = 0)\n",
    "print returns"
   ]
  },
  {
   "cell_type": "code",
   "execution_count": 19,
   "metadata": {
    "collapsed": true
   },
   "outputs": [],
   "source": [
    "# Cool, Amazon has done amazing, but while all have garnered a positive return, PACW was failed to beat the market\n",
    "# Before I go too far... let me remind myself about lambda functions"
   ]
  },
  {
   "cell_type": "code",
   "execution_count": 20,
   "metadata": {},
   "outputs": [
    {
     "data": {
      "text/plain": [
       "AAPL    13368.755787\n",
       "AMZN    24508.225424\n",
       "GOOG     2860.627655\n",
       "PACW      262.673362\n",
       "SPY      1174.058910\n",
       "dtype: float64"
      ]
     },
     "execution_count": 20,
     "metadata": {},
     "output_type": "execute_result"
    }
   ],
   "source": [
    "returnsDF.apply(lambda x : initInvestment * ((x[-1] / x[1]) - 1))"
   ]
  },
  {
   "cell_type": "code",
   "execution_count": 21,
   "metadata": {
    "collapsed": true
   },
   "outputs": [],
   "source": [
    "# Sick\n",
    "# Not sure how this is going to work, but lets see if there are any correlations to these stock prices"
   ]
  },
  {
   "cell_type": "code",
   "execution_count": 22,
   "metadata": {
    "collapsed": true
   },
   "outputs": [],
   "source": [
    "from scipy.stats.stats import pearsonr"
   ]
  },
  {
   "cell_type": "code",
   "execution_count": 23,
   "metadata": {},
   "outputs": [
    {
     "name": "stdout",
     "output_type": "stream",
     "text": [
      "AAPL, AMZN - 0.43943\n",
      "AAPL, GOOG - 0.52973\n",
      "AAPL, PACW - 0.36536\n",
      "AAPL, SPY - 0.59787\n",
      "AMZN, AAPL - 0.43943\n",
      "AMZN, GOOG - 0.52443\n",
      "AMZN, PACW - 0.37267\n",
      "AMZN, SPY - 0.54812\n",
      "GOOG, AAPL - 0.52973\n",
      "GOOG, AMZN - 0.52443\n",
      "GOOG, PACW - 0.40521\n",
      "GOOG, SPY - 0.63737\n",
      "PACW, AAPL - 0.36536\n",
      "PACW, AMZN - 0.37267\n",
      "PACW, GOOG - 0.40521\n",
      "PACW, SPY - 0.64654\n",
      "SPY, AAPL - 0.59787\n",
      "SPY, AMZN - 0.54812\n",
      "SPY, GOOG - 0.63737\n",
      "SPY, PACW - 0.64654\n"
     ]
    }
   ],
   "source": [
    "pctReturnsDF = pd.DataFrame({\n",
    "    'AAPL' : pd.Series(apple['Pct Returns']).dropna(),  # This is to remove the first element, na\n",
    "    'AMZN' : pd.Series(amazon['Pct Returns']).dropna(),\n",
    "    'GOOG' : pd.Series(google['Pct Returns']).dropna(),\n",
    "    'PACW' : pd.Series(pacw['Adj Close'].pct_change()).dropna(),\n",
    "    'SPY' : pd.Series(spy['Adj Close'].pct_change()).dropna()\n",
    "})\n",
    "\n",
    "\n",
    "for k in pctReturnsDF:\n",
    "    for km in pctReturnsDF:\n",
    "        if k == km: continue # Any correlation with itself is 1        \n",
    "        print \"%s, %s - %.5f\" % (k, km, pearsonr(pctReturnsDF[k], pctReturnsDF[km])[0])"
   ]
  },
  {
   "cell_type": "code",
   "execution_count": 24,
   "metadata": {
    "collapsed": true
   },
   "outputs": [],
   "source": [
    "# Although intersting, SPY is definately cheating as its a tracker for the overall market\n",
    "# It is good to put your investments returns vs a benchmark, but lets find some more interesting examples\n",
    "# Such as Apple and Google"
   ]
  },
  {
   "cell_type": "code",
   "execution_count": 25,
   "metadata": {
    "collapsed": true
   },
   "outputs": [],
   "source": [
    "compReturns = pd.DataFrame({\n",
    "    'AAPL' : pctReturnsDF.AAPL.dropna(),\n",
    "    'GOOG' : pctReturnsDF.GOOG.dropna(),\n",
    "})\n",
    "\n",
    "# Lets compare\n",
    "compReturns['Diff'] = compReturns.AAPL - compReturns.GOOG"
   ]
  },
  {
   "cell_type": "code",
   "execution_count": 26,
   "metadata": {
    "collapsed": true
   },
   "outputs": [],
   "source": [
    "#  Although there are certainly outliers, I suspect the mean is around zero, but lets find out"
   ]
  },
  {
   "cell_type": "code",
   "execution_count": 27,
   "metadata": {},
   "outputs": [
    {
     "data": {
      "image/png": "[encoded data removed]",
      "text/plain": [
       "<matplotlib.figure.Figure at 0xbf15fd0>"
      ]
     },
     "metadata": {},
     "output_type": "display_data"
    }
   ],
   "source": [
    "#%matplotlib inline\n",
    "plt.hist(compReturns['Diff'], normed=False, bins=20)\n",
    "plt.ylabel('Probability');\n",
    "plt.show()"
   ]
  },
  {
   "cell_type": "code",
   "execution_count": 28,
   "metadata": {
    "collapsed": true
   },
   "outputs": [],
   "source": [
    "# This is kinda awful to be honest, lets winsorize the data at two sigma"
   ]
  },
  {
   "cell_type": "code",
   "execution_count": 29,
   "metadata": {},
   "outputs": [
    {
     "data": {
      "image/png": "[encoded data removed]",
      "text/plain": [
       "<matplotlib.figure.Figure at 0xc203240>"
      ]
     },
     "metadata": {},
     "output_type": "display_data"
    }
   ],
   "source": [
    "winzoationFactor = 2\n",
    "sigma = np.std(compReturns['Diff'])\n",
    "winData = compReturns['Diff'].apply(lambda x: x if abs(x) < winzoationFactor * sigma else np.sign(x) * winzoationFactor * sigma)\n",
    "plt.hist(winData, normed=False, bins=20)\n",
    "plt.ylabel('Probability');\n",
    "plt.show()"
   ]
  },
  {
   "cell_type": "code",
   "execution_count": 30,
   "metadata": {
    "collapsed": true
   },
   "outputs": [],
   "source": [
    "# Neat!  This shows a pretty normal distribution with two wings at the end that show extreme events at <5% occurances\n",
    "# I wonder if there would be a way to take advantage of this!  Lets calculate a return for a portfolio if we do 50:50"
   ]
  },
  {
   "cell_type": "code",
   "execution_count": 31,
   "metadata": {},
   "outputs": [
    {
     "name": "stdout",
     "output_type": "stream",
     "text": [
      "833884.375238\n"
     ]
    }
   ],
   "source": [
    "newInvestment = 100000\n",
    "weights = [0.5, 0.5]\n",
    "rorAAPL = (compReturns.AAPL + 1).product() - 1  # subtracting 1 to only returns profits\n",
    "rorGOOG = (compReturns.GOOG + 1).product() - 1\n",
    "evenWeightReturns = newInvestment*(weights[0]*rorAAPL + weights[1]*rorGOOG)\n",
    "print evenWeightReturns"
   ]
  },
  {
   "cell_type": "code",
   "execution_count": 32,
   "metadata": {
    "collapsed": true
   },
   "outputs": [],
   "source": [
    "# What happens if we create a strategy that works on mean reversion.\n",
    "# If 'Diff' is greater than 2*sigma we will invest in Google and sell it at the mean\n",
    "# If 'Diff' is less than 2*sigma we will invest in Apple and sell it at the mean\n",
    "# I am going to use a forloop, but I am sure that there is a more effective way of computing\n",
    "# I will also assume no investment on the fist day since there will be no 'returns' data on this\n",
    "# I am also going to compute a rolling split to assume no future knowledge\n",
    "# Goal is to beat the 817k realized above\n",
    "# I am going to assume long only portfolio, shorting these names seems ill advised :)"
   ]
  },
  {
   "cell_type": "code",
   "execution_count": 33,
   "metadata": {
    "collapsed": true
   },
   "outputs": [],
   "source": [
    "spreadTradingDF = pd.DataFrame({\n",
    "    'AAPLclose' : pd.Series(apple['Adj Close'])[1:],\n",
    "    'GOOGclose' : pd.Series(google['Adj Close'])[1:],\n",
    "    'AAPLreturns' : compReturns.AAPL,\n",
    "    'GOOGreturns' : compReturns.GOOG,\n",
    "    'Diff' : compReturns.AAPL - compReturns.GOOG\n",
    "})"
   ]
  },
  {
   "cell_type": "code",
   "execution_count": 34,
   "metadata": {},
   "outputs": [
    {
     "name": "stdout",
     "output_type": "stream",
     "text": [
      "927835.189548\n"
     ]
    }
   ],
   "source": [
    "newInvestment = 100000  # We are going to allow for fractional shares\n",
    "originalInvestment = newInvestment\n",
    "startingTime = 100\n",
    "shares = 0\n",
    "tradeSigma = 0  # We will buy when delta is over two sigma\n",
    "sellSigma = 0\n",
    "holdTime = 5  # For tax and turnover considerations, we hold onto securities for min holdTime days\n",
    "nameInvested = ''\n",
    "days = 0\n",
    "\n",
    "for index, row in spreadTradingDF.iloc[startingTime - 1:].iterrows():\n",
    "    varianceAtTime = np.std(spreadTradingDF['Diff'].loc[:index])\n",
    "    if shares == 0:  # this means I am not invested\n",
    "        if tradeSigma * varianceAtTime <= abs(row.Diff):  # this means I am going to invest because we are outside threshold\n",
    "            if row.Diff > 0:  # This means AAPL is above, so I postlate that Google is undervalued\n",
    "                # print \"Buying GOOG at %.5f\" % (row.GOOGclose) \n",
    "                shares = newInvestment / row.GOOGclose\n",
    "                nameInvested = 'GOOG'\n",
    "            else: # This means GOOG is above, so I postulate that Apple is undervalued\n",
    "                # print \"Buying AAPL at %.5f\" % (row.AAPLclose) \n",
    "                shares = newInvestment / row.AAPLclose\n",
    "                nameInvested = 'AAPL'\n",
    "    if sellSigma * varianceAtTime > (row.Diff) and days > holdTime: # this means I am invested and want to sell\n",
    "            if nameInvested == 'AAPL':  # This means we hold Apple, we should sell\n",
    "                # print \"Selling AAPL at %.5f\" % (row.AAPLclose) \n",
    "                newInvestment = row.AAPLclose * shares\n",
    "            if nameInvested == 'GOOG':  # This means we hold Google, we should sell\n",
    "                # print \"Selling GOOG at %.5f\" % (row.GOOGclose) \n",
    "                newInvestment = row.GOOGclose * shares\n",
    "            shares = 0\n",
    "            nameInvested = ''\n",
    "            days = 0\n",
    "    days += 1\n",
    "\n",
    "if shares > 0:\n",
    "    if nameInvested == 'AAPL': newInvestment = shares * spreadTradingDF.AAPLclose[-1]\n",
    "    else: newInvestment = shares * spreadTradingDF.GOOGclose[-1]\n",
    "\n",
    "print newInvestment - originalInvestment"
   ]
  },
  {
   "cell_type": "code",
   "execution_count": 35,
   "metadata": {
    "collapsed": true
   },
   "outputs": [],
   "source": [
    "# This is interesting!\n",
    "# As you mess around with the buy/sell side sigma and the time you can see very different return sequences\n",
    "# At T=30, bSigma = 2, and sSigma = 0.5, we actually garner less returns than if we just did the equal weighted portfolio!\n",
    "# If we reduce bSigma, sSigma = 0 (buying when one has slightly outperformed the other) and setting T=5 we finally make more\n",
    "#  than the equal weighted portfolio, but we would be hammered by taxes at that point.  Short term arbitrage is expensive!\n",
    "#  Last thing I am going to do is make this into a program so that one could possibly feed a combination and get most optimal"
   ]
  },
  {
   "cell_type": "code",
   "execution_count": 36,
   "metadata": {
    "collapsed": true
   },
   "outputs": [],
   "source": [
    "import itertools as it  # This will allow us to make an arragement of arguements"
   ]
  },
  {
   "cell_type": "code",
   "execution_count": 54,
   "metadata": {},
   "outputs": [],
   "source": [
    "data = {\n",
    "    'holdTime' : np.linspace(5, 30, 6),\n",
    "    'sellSigma' : np.linspace(0, 3, 4),\n",
    "    'tradeSigma' : np.linspace(0, 3, 4),\n",
    "}\n",
    "\n",
    "dataComb = list(it.product(*(data[Name] for Name in sorted(data))))\n",
    "# this is a list of all combinations of the data elements, 96 in total (6*4*4), in alpha order hold, sell, trade"
   ]
  },
  {
   "cell_type": "code",
   "execution_count": 55,
   "metadata": {
    "collapsed": true
   },
   "outputs": [],
   "source": [
    "def investmentTool(lst, spreadTradingDF):\n",
    "    \n",
    "    newInvestment = 100000  # We are going to allow for fractional shares\n",
    "    originalInvestment = newInvestment\n",
    "    startingTime = 100\n",
    "    shares = 0\n",
    "    tradeSigma = lst[2]\n",
    "    sellSigma = lst[1]\n",
    "    holdTime = lst[0]\n",
    "    nameInvested = ''\n",
    "    days = 0\n",
    "\n",
    "    for index, row in spreadTradingDF.iloc[startingTime - 1:].iterrows():\n",
    "        varianceAtTime = np.std(spreadTradingDF['Diff'].loc[:index])\n",
    "        if shares == 0:  # this means I am not invested\n",
    "            if tradeSigma * varianceAtTime <= abs(row.Diff):  # this means I am going to invest because we are outside threshold\n",
    "                if row.Diff > 0:  # This means AAPL is above, so I postlate that Google is undervalued\n",
    "                    # print \"Buying GOOG at %.5f\" % (row.GOOGclose) \n",
    "                    shares = newInvestment / row.GOOGclose\n",
    "                    nameInvested = 'GOOG'\n",
    "                else: # This means GOOG is above, so I postulate that Apple is undervalued\n",
    "                    # print \"Buying AAPL at %.5f\" % (row.AAPLclose) \n",
    "                    shares = newInvestment / row.AAPLclose\n",
    "                    nameInvested = 'AAPL'\n",
    "        if sellSigma * varianceAtTime > (row.Diff) and days > holdTime: # this means I am invested and want to sell\n",
    "                if nameInvested == 'AAPL':  # This means we hold Apple, we should sell\n",
    "                    # print \"Selling AAPL at %.5f\" % (row.AAPLclose) \n",
    "                    newInvestment = row.AAPLclose * shares\n",
    "                if nameInvested == 'GOOG':  # This means we hold Google, we should sell\n",
    "                    # print \"Selling GOOG at %.5f\" % (row.GOOGclose) \n",
    "                    newInvestment = row.GOOGclose * shares\n",
    "                shares = 0\n",
    "                nameInvested = ''\n",
    "                days = 0\n",
    "        days += 1\n",
    "\n",
    "    if shares > 0:\n",
    "        if nameInvested == 'AAPL': newInvestment = shares * spreadTradingDF.AAPLclose[-1]\n",
    "        else: newInvestment = shares * spreadTradingDF.GOOGclose[-1]\n",
    "    \n",
    "    return newInvestment/originalInvestment"
   ]
  },
  {
   "cell_type": "code",
   "execution_count": 67,
   "metadata": {},
   "outputs": [],
   "source": [
    "output = [investmentTool(spreadTradingDF, i) for i in dataComb]"
   ]
  },
  {
   "cell_type": "code",
   "execution_count": 83,
   "metadata": {},
   "outputs": [],
   "source": [
    "dispData = pd.Series(sorted(zip(dataComb, output), key=lambda l: l[1], reverse=True))"
   ]
  },
  {
   "cell_type": "code",
   "execution_count": 85,
   "metadata": {},
   "outputs": [
    {
     "name": "stdout",
     "output_type": "stream",
     "text": [
      "Buying at 0, selling at 3, holding for least 30, returns 17.90237\n",
      "Buying at 0, selling at 3, holding for least 10, returns 10.84462\n",
      "Buying at 0, selling at 0, holding for least 5, returns 10.27835\n",
      "Buying at 0, selling at 0, holding for least 10, returns 10.13527\n",
      "Buying at 0, selling at 1, holding for least 25, returns 8.18421\n"
     ]
    }
   ],
   "source": [
    "for i in dispData.head():\n",
    "    print \"Buying at %d, selling at %d, holding for least %d, returns %.5f\" % (i[0][2], i[0][1], i[0][0], i[1])"
   ]
  },
  {
   "cell_type": "code",
   "execution_count": 86,
   "metadata": {
    "collapsed": true
   },
   "outputs": [],
   "source": [
    "# Awesome!  Looks like we could have beaten the even portfolio of 9.27 pretty handily with the top strategy.\n",
    "# They all have buying at 0 though which looks odd to me...\n",
    "#   This means that whenever there is any outperformace on one stock above the mean they invest in the other.\n",
    "#   There may be some nuances here that I am not appreciating, but the primary reason I am doing this is because I wanted\n",
    "#   to relearn some python and figure out some of the tricks with pandas.  There is a lot more to learn for sure!"
   ]
  }
 ],
 "metadata": {
  "kernelspec": {
   "display_name": "Python 2",
   "language": "python",
   "name": "python2"
  },
  "language_info": {
   "codemirror_mode": {
    "name": "ipython",
    "version": 2
   },
   "file_extension": ".py",
   "mimetype": "text/x-python",
   "name": "python",
   "nbconvert_exporter": "python",
   "pygments_lexer": "ipython2",
   "version": "2.7.13"
  }
 },
 "nbformat": 4,
 "nbformat_minor": 2
}
